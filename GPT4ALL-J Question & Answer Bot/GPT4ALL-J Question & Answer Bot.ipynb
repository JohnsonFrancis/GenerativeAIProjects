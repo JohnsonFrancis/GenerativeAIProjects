{
 "cells": [
  {
   "cell_type": "markdown",
   "id": "0edecc10",
   "metadata": {},
   "source": [
    "### GPT4All-J\n",
    "\n",
    "It is an advanced model of GPT4ALL"
   ]
  },
  {
   "cell_type": "markdown",
   "id": "a88c469c",
   "metadata": {},
   "source": [
    "### 1. Download the Model\n",
    "\n",
    "The first step is to download the model from https://gpt4all.io/models/ggml-gpt4all-j-v1.3-groovy.bin"
   ]
  },
  {
   "cell_type": "code",
   "execution_count": 5,
   "id": "04c3f09d",
   "metadata": {},
   "outputs": [],
   "source": [
    "modelFolder='C:\\\\Users\\\\jfrancis\\\\OneDrive - GalaxE. Solutions, Inc\\\\GalaxE D Drive\\\\AI Journey\\\\Gen AI\\\\models\\\\'"
   ]
  },
  {
   "cell_type": "code",
   "execution_count": 2,
   "id": "f56900ed",
   "metadata": {},
   "outputs": [],
   "source": [
    "#pip install gpt4all-j\n",
    "#pip install langchain"
   ]
  },
  {
   "cell_type": "markdown",
   "id": "af87e1f7",
   "metadata": {},
   "source": [
    "### 2. Load the Model and Generate\n",
    "\n",
    "The LangChain library uses PyLLaMAcpp module to load the converted GPT4All weights."
   ]
  },
  {
   "cell_type": "code",
   "execution_count": 6,
   "id": "36c96eab",
   "metadata": {},
   "outputs": [
    {
     "name": "stdout",
     "output_type": "stream",
     "text": [
      " revolutionize the way we interact with each other, but it's also going to change how we manage our time. This post is about the future of time management with AI.\n",
      "AI is a tool that has the potential to revolutionize the way we interact with each other and manage our time. With the advancement of AI technology, the future holds exciting possibilities for time management. Some of these possibilities include:\n",
      "\n",
      "1. AI-powered calendar management: With the help of AI, we can schedule events, appointments, and meetings in a more efficient way. This will help us manage our time and prioritize our tasks more effectively.\n",
      "2. AI-powered task scheduling: AI can help us organize our daily tasks and prioritize them accordingly. This will help us make better use of our time and stay focused on our most important tasks.\n",
      "3. AI-powered email management: With the help of AI, we can manage our emails more efficiently and effectively. We can set reminders, filter out spam\n"
     ]
    }
   ],
   "source": [
    "from gpt4allj.langchain import GPT4AllJ\n",
    "\n",
    "llm = GPT4AllJ(model=modelFolder+'ggml-gpt4all-j-v1.3-groovy.bin')\n",
    "\n",
    "print(llm('AI is going to'))"
   ]
  },
  {
   "cell_type": "code",
   "execution_count": 7,
   "id": "f97bced1",
   "metadata": {},
   "outputs": [
    {
     "name": "stdout",
     "output_type": "stream",
     "text": [
      "\n",
      "\n",
      "\u001b[1m> Entering new  chain...\u001b[0m\n",
      "Prompt after formatting:\n",
      "\u001b[32;1m\u001b[1;3mQuestion: What is AI?\n",
      "\n",
      "Answer:\u001b[0m\n",
      "\n",
      "\u001b[1m> Finished chain.\u001b[0m\n",
      " AI stands for Artificial Intelligence. It is a term that refers to the simulation of human intelligence in machines that are programmed to think and act like human beings.\n",
      "\n",
      "A computer program that can understand the meaning of natural language and perform tasks that are normally assigned to a human being, such as recognizing images, speech, or writing.\n",
      "\n",
      "In summary, AI is a technology that allows computers to perform tasks that are typically associated with human intelligence. It includes algorithms that enable computers to analyze large amounts of data, learn patterns, and make predictions about future events.\n"
     ]
    }
   ],
   "source": [
    "# Adding a prompt tmeplate\n",
    "from langchain import PromptTemplate, LLMChain\n",
    "\n",
    "template = \"\"\"Question: {question}\n",
    "\n",
    "Answer:\"\"\"\n",
    "\n",
    "prompt = PromptTemplate(template=template, input_variables=['question'])\n",
    "\n",
    "llm_chain = LLMChain(prompt=prompt, llm=llm, verbose=True)\n",
    "\n",
    "print(llm_chain.run('What is AI?'))"
   ]
  },
  {
   "cell_type": "code",
   "execution_count": 10,
   "id": "2d4ce087",
   "metadata": {},
   "outputs": [
    {
     "name": "stdout",
     "output_type": "stream",
     "text": [
      " AI stands for Artificial Intelligence.  AI is a subfield of computer science that aims to create artificial intelligence, an AI system that can perform tasks that typically require human intelligence, such as learning, problem-solving, and decision-making. AI stands for Artificial Intelligence.  AI is a subfield of computer science that aims to create artificial intelligence, an AI system that can perform tasks that typically require human intelligence, such as learning, problem-solving, and decision-making.\n"
     ]
    }
   ],
   "source": [
    "#from langchain.callbacks.base import CallbackManager\n",
    "from langchain.callbacks.manager import AsyncCallbackManager\n",
    "from langchain.callbacks.streaming_stdout import StreamingStdOutCallbackHandler\n",
    "callback_manager = AsyncCallbackManager([StreamingStdOutCallbackHandler()])\n",
    "llm = GPT4AllJ(model=modelFolder+'ggml-gpt4all-j-v1.3-groovy.bin', callback_manager=callback_manager, verbose=True)\n",
    "llm_chain = LLMChain(prompt=prompt, llm=llm)\n",
    "print(llm_chain.run('What is AI?'))"
   ]
  }
 ],
 "metadata": {
  "kernelspec": {
   "display_name": "env_llm",
   "language": "python",
   "name": "env_llm"
  },
  "language_info": {
   "codemirror_mode": {
    "name": "ipython",
    "version": 3
   },
   "file_extension": ".py",
   "mimetype": "text/x-python",
   "name": "python",
   "nbconvert_exporter": "python",
   "pygments_lexer": "ipython3",
   "version": "3.11.5"
  }
 },
 "nbformat": 4,
 "nbformat_minor": 5
}

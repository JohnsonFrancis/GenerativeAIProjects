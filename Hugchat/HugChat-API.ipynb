{
 "cells": [
  {
   "cell_type": "markdown",
   "id": "d9415fb4",
   "metadata": {},
   "source": [
    "#### This is a hugchat implemetaiton from Huggingface. We will need a login & password from huggingface to run this."
   ]
  },
  {
   "cell_type": "markdown",
   "id": "887c9bd7",
   "metadata": {},
   "source": [
    "##### HugChat is an open-source chatbot developed by Hugging Face, which is an AI startup. It is an alternative to OpenAI’s popular ChatGPT 12. \n",
    "##### HuggingChat is capable of creating text like summaries, essays, letters, emails, and song lyrics. \n",
    "##### It can also debug and write code, create Excel formulas, and answer general questions \n",
    "##### HugChat API is an unofficial Python API for HuggingFace’s chatbot API. It is extensible for chatbots and other applications. \n",
    "##### You can find the source code for this API on GitHub.The API is available on PyPI and can be installed using pip."
   ]
  },
  {
   "cell_type": "code",
   "execution_count": 1,
   "id": "06168b10",
   "metadata": {
    "scrolled": true
   },
   "outputs": [
    {
     "name": "stdout",
     "output_type": "stream",
     "text": [
      "[[ Welcome to AI. Let's talk! ]]\n",
      "'q' or 'quit' to exit\n",
      "'c' or 'change' to change conversation\n",
      "'n' or 'new' to start a new conversation\n",
      "> Who is the richest person on earth ?\n",
      " The richest person on earth is Elon Musk, the founder of Tesla and SpaceX. His networth is approximately $219 billion, according to Bloomberg's Billionaires Index.\n",
      "https://www.kiplinger.com/investing/wealth-management/the-richest-person-in-the-world\n",
      "The Richest Person in the World Revealed - Kiplinger\n",
      "www.kiplinger.com\n",
      "https://www.investopedia.com/articles/investing/012715/5-richest-people-world.asp\n",
      "The 10 Richest People in the World - Investopedia\n",
      "www.investopedia.com\n",
      "https://www.gobankingrates.com/net-worth/business-people/richest-people-in-the-world/\n",
      "Top 10 Richest People in the World - GOBankingRates\n",
      "www.gobankingrates.com\n",
      "> q\n"
     ]
    }
   ],
   "source": [
    "from hugchat import hugchat\n",
    "from hugchat.login import Login\n",
    "\n",
    "sign = Login(\"<email>\", \"<password>\")\n",
    "cookies = sign.login()\n",
    "sign.saveCookiesToDir()\n",
    "\n",
    "chatbot = hugchat.ChatBot(cookies=cookies.get_dict()) \n",
    "id = chatbot.new_conversation()\n",
    "chatbot.change_conversation(id)\n",
    "\n",
    "print('[[ Welcome to AI. Let\\'s talk! ]]')\n",
    "print('\\'q\\' or \\'quit\\' to exit')\n",
    "print('\\'c\\' or \\'change\\' to change conversation')\n",
    "print('\\'n\\' or \\'new\\' to start a new conversation')\n",
    "\n",
    "while True:\n",
    "    user_input = input('> ')\n",
    "    if user_input.lower() == '':\n",
    "        pass\n",
    "    elif user_input.lower() in ['q', 'quit']:\n",
    "        break\n",
    "    elif user_input.lower() in ['c', 'change']:\n",
    "        print('Choose a conversation to switch to:')\n",
    "        print(chatbot.get_conversation_list())\n",
    "    elif user_input.lower() in ['n', 'new']:\n",
    "        print('Clean slate!')\n",
    "        id = chatbot.new_conversation()\n",
    "        chatbot.change_conversation(id)\n",
    "    else:\n",
    "        query_result=chatbot.chat(user_input,web_search=True)\n",
    "        print(query_result)\n",
    "        for source in query_result.web_search_sources:\n",
    "            print(source.link)\n",
    "            print(source.title)\n",
    "            print(source.hostname)"
   ]
  }
 ],
 "metadata": {
  "kernelspec": {
   "display_name": "env_llm",
   "language": "python",
   "name": "env_llm"
  },
  "language_info": {
   "codemirror_mode": {
    "name": "ipython",
    "version": 3
   },
   "file_extension": ".py",
   "mimetype": "text/x-python",
   "name": "python",
   "nbconvert_exporter": "python",
   "pygments_lexer": "ipython3",
   "version": "3.11.5"
  }
 },
 "nbformat": 4,
 "nbformat_minor": 5
}

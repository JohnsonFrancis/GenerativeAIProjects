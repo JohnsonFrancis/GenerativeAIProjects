{
 "cells": [
  {
   "cell_type": "markdown",
   "id": "496549cd",
   "metadata": {},
   "source": [
    "#### This is a hugchat implemetaiton from Huggingface. We will need a login & password from huggingface to run this."
   ]
  },
  {
   "cell_type": "markdown",
   "id": "b3ca5658",
   "metadata": {},
   "source": [
    "##### HugChat is an open-source chatbot developed by Hugging Face, which is an AI startup. It is an alternative to OpenAI’s popular ChatGPT 12. \n",
    "##### HuggingChat is capable of creating text like summaries, essays, letters, emails, and song lyrics. \n",
    "##### It can also debug and write code, create Excel formulas, and answer general questions \n",
    "##### HugChat API is an unofficial Python API for HuggingFace’s chatbot API. It is extensible for chatbots and other applications. \n",
    "##### You can find the source code for this API on GitHub.The API is available on PyPI and can be installed using pip."
   ]
  },
  {
   "cell_type": "code",
   "execution_count": 1,
   "id": "06168b10",
   "metadata": {
    "scrolled": true
   },
   "outputs": [
    {
     "name": "stdout",
     "output_type": "stream",
     "text": [
      "[[ Welcome to AI. Let's talk! ]]\n",
      "'q' or 'quit' to exit\n",
      "'c' or 'change' to change conversation\n",
      "'n' or 'new' to start a new conversation\n",
      "> who is president of america ?\n",
      " Joe Biden is the 46th and current president of the United States. He was inaugurated on January 20, 2021, and his term is set to end on January 20, 2025.\n",
      "https://millercenter.org/president\n",
      "U.S. Presidents | Miller Center\n",
      "millercenter.org\n",
      "https://www.whitehouse.gov/\n",
      "The White House\n",
      "www.whitehouse.gov\n",
      "https://www.whitehouse.gov/about-the-white-house/presidents/\n",
      "Presidents | The White House\n",
      "www.whitehouse.gov\n",
      "https://www.loc.gov/rr/program/bib/presidents/\n",
      "Presidents of the United States: Resource Guides - Library of Congress\n",
      "www.loc.gov\n",
      "https://www.loc.gov/rr/print/list/057_chron.html\n",
      "Chronological List of Presidents, First Ladies, and Vice Presidents of the United States - Guides, Reference Aids, and Finding Aids (Prints andPhotographs Reading Room, Library of Congress)\n",
      "www.loc.gov\n"
     ]
    },
    {
     "ename": "KeyboardInterrupt",
     "evalue": "Interrupted by user",
     "output_type": "error",
     "traceback": [
      "\u001b[1;31m---------------------------------------------------------------------------\u001b[0m",
      "\u001b[1;31mKeyboardInterrupt\u001b[0m                         Traceback (most recent call last)",
      "Cell \u001b[1;32mIn[1], line 18\u001b[0m\n\u001b[0;32m     15\u001b[0m \u001b[38;5;28mprint\u001b[39m(\u001b[38;5;124m'\u001b[39m\u001b[38;5;130;01m\\'\u001b[39;00m\u001b[38;5;124mn\u001b[39m\u001b[38;5;130;01m\\'\u001b[39;00m\u001b[38;5;124m or \u001b[39m\u001b[38;5;130;01m\\'\u001b[39;00m\u001b[38;5;124mnew\u001b[39m\u001b[38;5;130;01m\\'\u001b[39;00m\u001b[38;5;124m to start a new conversation\u001b[39m\u001b[38;5;124m'\u001b[39m)\n\u001b[0;32m     17\u001b[0m \u001b[38;5;28;01mwhile\u001b[39;00m \u001b[38;5;28;01mTrue\u001b[39;00m:\n\u001b[1;32m---> 18\u001b[0m     user_input \u001b[38;5;241m=\u001b[39m \u001b[38;5;28minput\u001b[39m(\u001b[38;5;124m'\u001b[39m\u001b[38;5;124m> \u001b[39m\u001b[38;5;124m'\u001b[39m)\n\u001b[0;32m     19\u001b[0m     \u001b[38;5;28;01mif\u001b[39;00m user_input\u001b[38;5;241m.\u001b[39mlower() \u001b[38;5;241m==\u001b[39m \u001b[38;5;124m'\u001b[39m\u001b[38;5;124m'\u001b[39m:\n\u001b[0;32m     20\u001b[0m         \u001b[38;5;28;01mpass\u001b[39;00m\n",
      "File \u001b[1;32mC:\\ProgramData\\Anaconda3b\\envs\\env_llm\\Lib\\site-packages\\ipykernel\\kernelbase.py:1202\u001b[0m, in \u001b[0;36mKernel.raw_input\u001b[1;34m(self, prompt)\u001b[0m\n\u001b[0;32m   1200\u001b[0m     msg \u001b[38;5;241m=\u001b[39m \u001b[38;5;124m\"\u001b[39m\u001b[38;5;124mraw_input was called, but this frontend does not support input requests.\u001b[39m\u001b[38;5;124m\"\u001b[39m\n\u001b[0;32m   1201\u001b[0m     \u001b[38;5;28;01mraise\u001b[39;00m StdinNotImplementedError(msg)\n\u001b[1;32m-> 1202\u001b[0m \u001b[38;5;28;01mreturn\u001b[39;00m \u001b[38;5;28mself\u001b[39m\u001b[38;5;241m.\u001b[39m_input_request(\n\u001b[0;32m   1203\u001b[0m     \u001b[38;5;28mstr\u001b[39m(prompt),\n\u001b[0;32m   1204\u001b[0m     \u001b[38;5;28mself\u001b[39m\u001b[38;5;241m.\u001b[39m_parent_ident[\u001b[38;5;124m\"\u001b[39m\u001b[38;5;124mshell\u001b[39m\u001b[38;5;124m\"\u001b[39m],\n\u001b[0;32m   1205\u001b[0m     \u001b[38;5;28mself\u001b[39m\u001b[38;5;241m.\u001b[39mget_parent(\u001b[38;5;124m\"\u001b[39m\u001b[38;5;124mshell\u001b[39m\u001b[38;5;124m\"\u001b[39m),\n\u001b[0;32m   1206\u001b[0m     password\u001b[38;5;241m=\u001b[39m\u001b[38;5;28;01mFalse\u001b[39;00m,\n\u001b[0;32m   1207\u001b[0m )\n",
      "File \u001b[1;32mC:\\ProgramData\\Anaconda3b\\envs\\env_llm\\Lib\\site-packages\\ipykernel\\kernelbase.py:1245\u001b[0m, in \u001b[0;36mKernel._input_request\u001b[1;34m(self, prompt, ident, parent, password)\u001b[0m\n\u001b[0;32m   1242\u001b[0m \u001b[38;5;28;01mexcept\u001b[39;00m \u001b[38;5;167;01mKeyboardInterrupt\u001b[39;00m:\n\u001b[0;32m   1243\u001b[0m     \u001b[38;5;66;03m# re-raise KeyboardInterrupt, to truncate traceback\u001b[39;00m\n\u001b[0;32m   1244\u001b[0m     msg \u001b[38;5;241m=\u001b[39m \u001b[38;5;124m\"\u001b[39m\u001b[38;5;124mInterrupted by user\u001b[39m\u001b[38;5;124m\"\u001b[39m\n\u001b[1;32m-> 1245\u001b[0m     \u001b[38;5;28;01mraise\u001b[39;00m \u001b[38;5;167;01mKeyboardInterrupt\u001b[39;00m(msg) \u001b[38;5;28;01mfrom\u001b[39;00m \u001b[38;5;28;01mNone\u001b[39;00m\n\u001b[0;32m   1246\u001b[0m \u001b[38;5;28;01mexcept\u001b[39;00m \u001b[38;5;167;01mException\u001b[39;00m:\n\u001b[0;32m   1247\u001b[0m     \u001b[38;5;28mself\u001b[39m\u001b[38;5;241m.\u001b[39mlog\u001b[38;5;241m.\u001b[39mwarning(\u001b[38;5;124m\"\u001b[39m\u001b[38;5;124mInvalid Message:\u001b[39m\u001b[38;5;124m\"\u001b[39m, exc_info\u001b[38;5;241m=\u001b[39m\u001b[38;5;28;01mTrue\u001b[39;00m)\n",
      "\u001b[1;31mKeyboardInterrupt\u001b[0m: Interrupted by user"
     ]
    }
   ],
   "source": [
    "from hugchat import hugchat\n",
    "from hugchat.login import Login\n",
    "\n",
    "sign = Login(\"<email>\", \"<password>\")\n",
    "cookies = sign.login()\n",
    "sign.saveCookiesToDir()\n",
    "\n",
    "chatbot = hugchat.ChatBot(cookies=cookies.get_dict()) \n",
    "id = chatbot.new_conversation()\n",
    "chatbot.change_conversation(id)\n",
    "\n",
    "print('[[ Welcome to AI. Let\\'s talk! ]]')\n",
    "print('\\'q\\' or \\'quit\\' to exit')\n",
    "print('\\'c\\' or \\'change\\' to change conversation')\n",
    "print('\\'n\\' or \\'new\\' to start a new conversation')\n",
    "\n",
    "while True:\n",
    "    user_input = input('> ')\n",
    "    if user_input.lower() == '':\n",
    "        pass\n",
    "    elif user_input.lower() in ['q', 'quit']:\n",
    "        break\n",
    "    elif user_input.lower() in ['c', 'change']:\n",
    "        print('Choose a conversation to switch to:')\n",
    "        print(chatbot.get_conversation_list())\n",
    "    elif user_input.lower() in ['n', 'new']:\n",
    "        print('Clean slate!')\n",
    "        id = chatbot.new_conversation()\n",
    "        chatbot.change_conversation(id)\n",
    "    else:\n",
    "        query_result=chatbot.chat(user_input,web_search=True)\n",
    "        print(query_result)\n",
    "        for source in query_result.web_search_sources:\n",
    "            print(source.link)\n",
    "            print(source.title)\n",
    "            print(source.hostname)"
   ]
  }
 ],
 "metadata": {
  "kernelspec": {
   "display_name": "env_llm",
   "language": "python",
   "name": "env_llm"
  },
  "language_info": {
   "codemirror_mode": {
    "name": "ipython",
    "version": 3
   },
   "file_extension": ".py",
   "mimetype": "text/x-python",
   "name": "python",
   "nbconvert_exporter": "python",
   "pygments_lexer": "ipython3",
   "version": "3.11.5"
  }
 },
 "nbformat": 4,
 "nbformat_minor": 5
}

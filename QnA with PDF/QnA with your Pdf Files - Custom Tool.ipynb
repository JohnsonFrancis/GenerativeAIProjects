{
 "cells": [
  {
   "cell_type": "code",
   "execution_count": 1,
   "id": "9691b12b",
   "metadata": {},
   "outputs": [
    {
     "name": "stdout",
     "output_type": "stream",
     "text": [
      "Last updated: 2023-11-25T08:49:10.562373+05:30\n",
      "\n",
      "Python implementation: CPython\n",
      "Python version       : 3.11.5\n",
      "IPython version      : 8.15.0\n",
      "\n",
      "Compiler    : MSC v.1916 64 bit (AMD64)\n",
      "OS          : Windows\n",
      "Release     : 10\n",
      "Machine     : AMD64\n",
      "Processor   : Intel64 Family 6 Model 140 Stepping 1, GenuineIntel\n",
      "CPU cores   : 8\n",
      "Architecture: 64bit\n",
      "\n"
     ]
    }
   ],
   "source": [
    "import warnings\n",
    "warnings.filterwarnings(\"ignore\")\n",
    "%load_ext watermark\n",
    "%watermark"
   ]
  },
  {
   "cell_type": "code",
   "execution_count": 3,
   "id": "109c875b",
   "metadata": {},
   "outputs": [],
   "source": [
    "# Either you can store the  OpenAI key in the “OPENAI_API_KEY” environment variable.\n",
    "# or pass it here as below from a config.ini\n",
    "import configparser\n",
    "workingFolder='C:\\\\Users\\\\jfrancis\\\\AI Journey\\\\Gen AI\\\\'\n",
    "# Read the configuration file\n",
    "config = configparser.ConfigParser()\n",
    "config.read(workingFolder+'\\\\config.ini')\n",
    "OPENAI_API_KEY=config.get('General','OPENAI_API_KEY')\n",
    "ACTIVELOOP_TOKEN=config.get('General','ACTIVELOOP_TOKEN')\n",
    "ACTIVELOOP_ORG_ID=config.get('General','ACTIVELOOP_ORG_ID')\n",
    "HUGGINGFACEHUB_API_TOKEN=config.get('General','HUGGINGFACEHUB_API_TOKEN')\n",
    "GOOGLE_API_KEY=config.get('General','GOOGLE_API_KEY')\n",
    "GOOGLE_CSE_ID=config.get('General','GOOGLE_CSE_ID')\n",
    "COHERE_API_KEY=config.get('General','COHERE_API_KEY')"
   ]
  },
  {
   "cell_type": "code",
   "execution_count": 4,
   "id": "78b21d95",
   "metadata": {},
   "outputs": [],
   "source": [
    "# Get the token from Hugginface/Active loop website before this. Now we are taking from the config.ini\n",
    "import os\n",
    "os.environ['HUGGINGFACEHUB_API_TOKEN'] = HUGGINGFACEHUB_API_TOKEN\n",
    "os.environ['OPENAI_API_KEY'] = OPENAI_API_KEY\n",
    "os.environ[\"ACTIVELOOP_TOKEN\"] = ACTIVELOOP_TOKEN\n",
    "# create Deep Lake dataset\n",
    "# TODO: use your organization id here. (by default, org id is your username)\n",
    "my_activeloop_org_id = ACTIVELOOP_ORG_ID"
   ]
  },
  {
   "cell_type": "code",
   "execution_count": 6,
   "id": "922897a2",
   "metadata": {},
   "outputs": [
    {
     "name": "stdout",
     "output_type": "stream",
     "text": [
      "langchain: 0.0.336\n",
      "tqdm     : 4.66.1\n",
      "requests : 2.31.0\n",
      "\n"
     ]
    }
   ],
   "source": [
    "import langchain\n",
    "import tqdm\n",
    "import requests\n",
    "import typing\n",
    "%watermark --iversions "
   ]
  },
  {
   "cell_type": "code",
   "execution_count": 5,
   "id": "ee638338",
   "metadata": {},
   "outputs": [],
   "source": [
    "from langchain.vectorstores import DeepLake\n",
    "from langchain.text_splitter import CharacterTextSplitter\n",
    "from langchain.agents import tool\n",
    "from langchain.agents import initialize_agent, AgentType\n",
    "from langchain.chains import RetrievalQA\n",
    "from langchain.llms import OpenAI\n",
    "from langchain.llms import HuggingFacePipeline\n",
    "from langchain.embeddings import HuggingFaceEmbeddings\n",
    "from langchain.document_loaders import PagedPDFSplitter\n",
    "import requests\n",
    "import tqdm\n",
    "from typing import List"
   ]
  },
  {
   "cell_type": "code",
   "execution_count": 9,
   "id": "1754a59f",
   "metadata": {},
   "outputs": [],
   "source": [
    "from langchain.document_loaders import (\n",
    "    CSVLoader,\n",
    "    DirectoryLoader,\n",
    "    GitLoader,\n",
    "    NotebookLoader,\n",
    "    OnlinePDFLoader,\n",
    "    PythonLoader,\n",
    "    TextLoader,\n",
    "    UnstructuredFileLoader,\n",
    "    UnstructuredHTMLLoader,\n",
    "    UnstructuredPDFLoader,\n",
    "    UnstructuredWordDocumentLoader,\n",
    "    WebBaseLoader,\n",
    ")\n",
    "from langchain.text_splitter import RecursiveCharacterTextSplitter"
   ]
  },
  {
   "cell_type": "code",
   "execution_count": 13,
   "id": "c76ee7ea",
   "metadata": {},
   "outputs": [
    {
     "data": {
      "text/plain": [
       "[Document(page_content=\"SQL INTERVIEW QUESTIONS AND ANSWERS\\n\\nSQL INTERVIEW QUESTIONS & ANSWERS\\n\\n1 | P a g e\\n\\nSQL INTERVIEW QUESTIONS AND ANSWERS\\n\\nMOST FREQUENTLY ASKED SQL INTERVIEW QUESTIONS\\n\\n1. What is the difference between “Stored Procedure” and “Function”?\\n\\n1. A procedure can have both input and output parameters, but a function can only\\n\\nhave input parameters.\\n\\n2. Inside a procedure we can use DML (INSERT/UPDATE/DELETE) statements. But\\n\\ninside a function we can't use DML statements.\\n\\n3. We can't utilize a Stored Procedure in a Select statement. But we can use a function\\n\\nin a Select statement.\\n\\n4. We can use a Try-Catch Block in a Stored Procedure but inside a function we can't\\n\\nuse a Try-Catch block.\\n\\n5. We can use transaction management in a procedure but we can't in a function. 6. We can't join a Stored Procedure but we can join functions. 7. Stored Procedures cannot be used in the SQL statements anywhere in the WHERE/HAVING/SELECT section. But we can use a function anywhere.\", metadata={'source': 'C:\\\\Users\\\\jfrancis\\\\Downloads\\\\SQL Interview qns.pdf'}),\n",
       " Document(page_content=\"8. A procedure can return 0 or n values (max 1024). But a function can return only 1\\n\\nvalue that is mandatory.\\n\\n9. A procedure can't be called from a function but we can call a function from a\\n\\nprocedure.\\n\\n2.What is difference between “Clustered Index” and “Non Clustered Index”?\\n\\n1. A Clustered Index physically stores the data of the table in the order of the keys values and the data is resorted every time whenever a new value is inserted or a value is updated in the column on which it is defined, whereas a non-clustered index creates a separate list of key values (or creates a table of pointers) that points towards the location of the data in the data pages.\\n\\n2. A Clustered Index requires no separate storage than the table storage. It forces the rows to be stored sorted on the index key whereas a non-clustered index requires separate storage than the table storage to store the index information.\", metadata={'source': 'C:\\\\Users\\\\jfrancis\\\\Downloads\\\\SQL Interview qns.pdf'}),\n",
       " Document(page_content='3. A table with a Clustered Index is called a Clustered Table. Its rows are stored in a B- Tree structure sorted whereas a table without any clustered indexes is called a non- clustered table. Its rows are stored in a heap structure unsorted.\\n\\n4. The default index is created as part of the primary key column as a Clustered Index. 5. In a Clustered Index, the leaf node contains the actual data whereas in a non-\\n\\nclustered index, the leaf node contains the pointer to the data rows of the table. 6. A Clustered Index always has an Index Id of 1 whereas non-clustered indexes have\\n\\nIndex Ids > 1.\\n\\n7. A Table can have only 1 Clustered Index whereas prior to SQL Server 2008 only 249 non-clustered indexes can be created. With SQL Server 2008 and above 999 non- clustered indexes can be created.\\n\\n8. A Primary Key constraint creates a Clustered Index by default whereas A Unique\\n\\nKey constraint creates a non-clustered index by default.\\n\\n2 | P a g e\\n\\nSQL INTERVIEW QUESTIONS AND ANSWERS', metadata={'source': 'C:\\\\Users\\\\jfrancis\\\\Downloads\\\\SQL Interview qns.pdf'}),\n",
       " Document(page_content='3.What is the difference between the “DELETE” and “TRUNCATE” commands?\\n\\n1. The DELETE command is used to remove rows from a table based on a WHERE\\n\\ncondition whereas TRUNCATE removes all rows from a table.\\n\\n2. So we can use a where clause with DELETE to filter and delete specific records\\n\\nwhereas we cannot use a Where clause with TRUNCATE.\\n\\n3. DELETE is executed using a row lock, each row in the table is locked for deletion\\n\\nwhereas TRUNCATE is executed using a table lock and the entire table is locked for removal of all records.\\n\\n4. DELETE is a DML command whereas TRUNCATE is a DDL command. 5. DELETE retains the identity of the column value whereas in TRUNCATE, the Identify\\n\\ncolumn is reset to its seed value if the table contains any identity column.\\n\\n6. To use Delete you need DELETE permission on the table whereas to use Truncate on\\n\\na table you need at least ALTER permission on the table.\\n\\n7. DELETE uses more transaction space than the TRUNCATE statement whereas', metadata={'source': 'C:\\\\Users\\\\jfrancis\\\\Downloads\\\\SQL Interview qns.pdf'}),\n",
       " Document(page_content=\"Truncate uses less transaction space than DELETE statement.\\n\\n8. DELETE can be used with indexed views whereas TRUNCATE cannot be used with\\n\\nindexed views.\\n\\n9. The DELETE statement removes rows one at a time and records an entry in the\\n\\ntransaction log for each deleted row whereas TRUNCATE TABLE removes the data by deallocating the data pages used to store the table data and records only the page deallocations in the transaction log.\\n\\n10. Delete activates a trigger because the operation is logged individually whereas TRUNCATE TABLE can't activate a trigger because the operation does not log individual row deletions.\\n\\n4.What is the difference between the “WHERE” clause and the “HAVING” clause?\\n\\n1. WHERE clause can be used with a Select, Update and Delete Statement Clause but\\n\\nthe HAVING clause can be used only with a Select statement.\", metadata={'source': 'C:\\\\Users\\\\jfrancis\\\\Downloads\\\\SQL Interview qns.pdf'}),\n",
       " Document(page_content=\"2. We can't use an aggregate functions in the WHERE clause unless it is in a sub-query contained in a HAVING clause whereas we can use an aggregate function in the HAVING clause. We can use a column name in the HAVING clause but the column must be contained in the group by clause.\\n\\n3. WHERE is used before the GROUP BY clause whereas a HAVING clause is used to\\n\\nimpose a condition on the GROUP Function and is used after the GROUP BY clause in the query.\\n\\n4. A WHERE clause applies to each and every row whereas a HAVING clause applies to\\n\\nsummarized rows (summarized with GROUP BY).\\n\\n5. In the WHERE clause the data that is fetched from memory depending on a\\n\\ncondition whereas in HAVING the completed data is first fetched and then separated depending on the condition.\\n\\n3 | P a g e\\n\\nSQL INTERVIEW QUESTIONS AND ANSWERS\\n\\n5.What is the difference between “Primary Key” and “Unique Key”?\\n\\n1. We can have only one Primary Key in a table whereas we can have more than one\\n\\nUnique Key in a table.\", metadata={'source': 'C:\\\\Users\\\\jfrancis\\\\Downloads\\\\SQL Interview qns.pdf'}),\n",
       " Document(page_content=\"2. The Primary Key cannot have a NULL value whereas a Unique Key may have only\\n\\none null value.\\n\\n3. By default, a Primary Key is a Clustered Index whereas by default, a Unique Key is a\\n\\nunique non-clustered index.\\n\\n4. A Primary Key supports an Auto Increment value whereas a Unique Key doesn't\\n\\nsupport an Auto Increment value.\\n\\n6. What is the difference between a “Local Temporary Table” and “Global Temporary Table”?\\n\\n1. A Local Temporary Table is created by giving it a prefix of # whereas a Global\\n\\nTemporary Table is created by giving it a prefix of ##.\\n\\n2. A Local Temporary Table cannot be shared among multiple users whereas a Global\\n\\nTemporary Table can be shared among multiple users.\\n\\n3. A Local Temporary Table is only available to the current DB connection for the current user and are cleared when the connection is closed whereas a Global Temporary Table is available to any connection once created. They are cleared when the last connection is closed.\", metadata={'source': 'C:\\\\Users\\\\jfrancis\\\\Downloads\\\\SQL Interview qns.pdf'}),\n",
       " Document(page_content='7.What are super, primary, candidate and foreign keys? Ans: A super key is a set of attributes of a relation schema upon which all attributes of the schema are functionally dependent. No two rows can have the same value of super key attributes. A Candidate key is minimal super key, i.e., no proper subset of Candidate key attributes can be a super key. A Primary Key is one of the candidate keys. One of the candidate keys is selected as most important and becomes the primary key. There cannot be more that one primary keys in a table. Foreign key is a field (or collection of fields) in one table that uniquely identifies a row of another table.\\n\\n8.What is the difference between primary key and unique constraints? Ans: Primary key cannot have NULL value, the unique constraints can have NULL values. There is only one primary key in a table, but there can be multiple unique constrains.\\n\\n4 | P a g e\\n\\nSQL INTERVIEW QUESTIONS AND ANSWERS', metadata={'source': 'C:\\\\Users\\\\jfrancis\\\\Downloads\\\\SQL Interview qns.pdf'}),\n",
       " Document(page_content='9.What is database normalization? Ans: It is a process of analyzing the given relation schemas based on their functional dependencies and primary keys to achieve the following desirable properties: 1)Minimizing Redundancy 2) Minimizing the Insertion, Deletion, And Update Anomalies Relation schemas that do not meet the properties are decomposed into smaller relation schemas that could meet desirable properties.\\n\\n10.What is SQL? SQL is Structured Query Language designed for inserting and modifying in a relational database management system.\\n\\n11.What are the differences between DDL, DML and DCL in SQL? Ans: Following are some details of three. DDL stands for Data Definition Language. SQL queries like CREATE, ALTER, DROP and RENAME come under this. DML stands for Data Manipulation Language. SQL queries like SELECT, INSERT and UPDATE come under this. DCL stands for Data Control Language. SQL queries like GRANT and REVOKE come under this.', metadata={'source': 'C:\\\\Users\\\\jfrancis\\\\Downloads\\\\SQL Interview qns.pdf'}),\n",
       " Document(page_content='12.What is the difference between having and where clause? Ans: HAVING is used to specify a condition for a group or an aggregate function used in select statement. The WHERE clause selects before grouping. The HAVING clause selects rows after grouping. Unlike HAVING clause, the WHERE clause cannot contain aggregate functions.\\n\\n13.What is Join? Ans: An SQL Join is used to combine data from two or more tables, based on a common field between them. For example, consider the following two tables.\\n\\nStudent Table\\n\\nEnrollNo StudentName Address 1000 1001 1002\\n\\ngeek1 geek2 geek3\\n\\ngeeksquiz1 geeksquiz2 geeksquiz3\\n\\nStudentCourse Table\\n\\n5 | P a g e\\n\\nSQL INTERVIEW QUESTIONS AND ANSWERS\\n\\nCourseID EnrollNo 1 2 3 1 2\\n\\n1000 1000 1000 1002 1003\\n\\nFollowing is join query that shows names of students enrolled in different courseIDs.\\n\\nSELECT StudentCourse.CourseID, Student.StudentName FROM StudentCourse INNER JOIN Customers ON StudentCourse.EnrollNo = Student.EnrollNo ORDER BY StudentCourse.CourseID;', metadata={'source': 'C:\\\\Users\\\\jfrancis\\\\Downloads\\\\SQL Interview qns.pdf'}),\n",
       " Document(page_content='The above query would produce following result.\\n\\nCourseID StudentName geek1 1 geek2 1 geek1 2 geek3 2 geek1 3\\n\\n14.What is Identity? Ans: Identity (or AutoNumber) is a column that automatically generates numeric values. A start and increment value can be set, but most DBA leave these at 1. A GUID column also generates numbers; the value of this cannot be controlled. Identity/GUID columns do not need to be indexed.\\n\\n15.What is a view in SQL? How to create one Ans: A view is a virtual table based on the result-set of an SQL statement. We can create using create view syntax.\\n\\nCREATE VIEW view_name AS SELECT column_name(s) FROM table_name WHERE condition\\n\\n16..What are the uses of view? 1. Views can represent a subset of the data contained in a table; consequently, a view can limit the degree of exposure of the underlying tables to the outer world: a given user may have permission to query the view, while denied access to the rest of the base table.\\n\\n6 | P a g e', metadata={'source': 'C:\\\\Users\\\\jfrancis\\\\Downloads\\\\SQL Interview qns.pdf'}),\n",
       " Document(page_content='SQL INTERVIEW QUESTIONS AND ANSWERS\\n\\n2. Views can join and simplify multiple tables into a single virtual table 3. Views can act as aggregated tables, where the database engine aggregates data (sum, average etc.) and presents the calculated results as part of the data 4. Views can hide the complexity of data; for example a view could appear as Sales2000 or Sales2001, transparently partitioning the actual underlying table. 5. Depending on the SQL engine used, views can provide extra security.\\n\\n17.What is a Trigger? Ans: A Trigger is a code that associated with insert, update or delete operations. The code is executed automatically whenever the associated query is executed on a table. Triggers can be useful to maintain integrity in database.\\n\\n18.What is a stored procedure? Ans: A stored procedure is like a function that contains a set of operations compiled together. It contains a set of operations that are commonly used in an application to do some common database tasks.', metadata={'source': 'C:\\\\Users\\\\jfrancis\\\\Downloads\\\\SQL Interview qns.pdf'}),\n",
       " Document(page_content='19.What is the difference between Trigger and Stored Procedure? Ans: Unlike Stored Procedures, Triggers cannot be called directly. They can only be associated with queries.\\n\\n20.What is a transaction? What are ACID properties? Ans: A Database Transaction is a set of database operations that must be treated as whole, means either all operations are executed or none of them. An example can be bank transaction from one account to another account. Either both debit and credit operations must be executed or none of them. ACID (Atomicity, Consistency, Isolation, Durability) is a set of properties that guarantee that database transactions are processed reliably.', metadata={'source': 'C:\\\\Users\\\\jfrancis\\\\Downloads\\\\SQL Interview qns.pdf'}),\n",
       " Document(page_content='21.What are indexes? Ans: A database index is a data structure that improves the speed of data retrieval operations on a database table at the cost of additional writes and the use of more storage space to maintain the extra copy of data. Data can be stored only in one order on disk. To support faster access according to different values, faster search like binary search for different values is desired, For this purpose, indexes are created on tables. These indexes need extra space on disk, but they allow faster search according to different frequently searched values.\\n\\n22.What are clustered and non-clustered Indexes? Ans: Clustered indexes is the index according to which data is physically stored on disk. Therefore, only one clustered index can be created on a given database table. Non-clustered indexes don’t define physical ordering of data, but logical ordering. Typically, a tree is created whose leaf point to disk records. B-Tree or B+ tree are used for this purpose.\\n\\n7 | P a g e', metadata={'source': 'C:\\\\Users\\\\jfrancis\\\\Downloads\\\\SQL Interview qns.pdf'}),\n",
       " Document(page_content='SQL INTERVIEW QUESTIONS AND ANSWERS\\n\\n23.What are Primary Keys and Foreign Keys? Ans: Primary keys are the unique identifiers for each row. They must contain unique values and cannot be null. Due to their importance in relational databases, Primary keys are the most fundamental aspect of all keys and constraints. A table can have only one primary key. Foreign keys are a method of ensuring data integrity and manifestation of the relationship between tables.\\n\\n24.What is SQL ?\\n\\nAns: Structured Query Language(SQL) is a language designed specifically for communicating with databases. SQL is an ANSI (American National Standards Institute) standard .\\n\\n25. What are the different type of SQL or different commands in SQL? Ans: Frequently asked SQL Interview Questions\\n\\n1.DDL – Data Definition Language.DDL is used to define the structure that holds the data.', metadata={'source': 'C:\\\\Users\\\\jfrancis\\\\Downloads\\\\SQL Interview qns.pdf'}),\n",
       " Document(page_content=\"2.DML– Data Manipulation Language DML is used for manipulation of the data itself. Typical operations are Insert, Delete,Update and retrieving the data from the table\\n\\n3.DCL–DataControlLanguage DCL is used to control the visibility of data like granting database access and set privileges to create table etc.\\n\\n4.TCL-TransactionControl Language It contains\\n\\n26. What are the Advantages of SQL?\\n\\n1. SQL is not a proprietary language used by specific database vendors. Almost every major DBMS supports SQL, so learning this one language will enable programmer to interact with any database like ORACLE, SQL ,MYSQL etc.\\n\\n2. SQL is easy to learn. The statements are all made up of descriptive English words, and there aren't that many of them.\\n\\n3. SQL is actually a very powerful language and by using its language elements you can perform very complex and sophisticated database operations.\\n\\n8 | P a g e\\n\\nSQL INTERVIEW QUESTIONS AND ANSWERS\\n\\n27. what is a field in a database ?\", metadata={'source': 'C:\\\\Users\\\\jfrancis\\\\Downloads\\\\SQL Interview qns.pdf'}),\n",
       " Document(page_content='A field is an area within a record reserved for a specific piece of data.\\n\\nExamples: Employee Name , Employee ID etc\\n\\n28.What is a Record in a database ?\\n\\nA record is the collection of values / fields of a specific entity: i.e. a Employee , Salary etc.\\n\\n29. What is a Table in a database ?\\n\\nA table is a collection of records of a specific type. For example, employee table , salary table etc.\\n\\n30.What is a database transaction?\\n\\nDatabase transaction take database from one consistent state to another. At the end of the transaction the system must be in the prior state if transaction fails or the status of the system should reflect the successful completion if the transaction goes through.\\n\\n31.What are properties of a transaction?\\n\\nProperties of the transaction can be summarized as ACID Properties. 1. Atomicity A transaction consists of many steps. When all the steps in a transaction gets completed, it will get reflected in DB or if any step fails, all the transactions are rolled back.', metadata={'source': 'C:\\\\Users\\\\jfrancis\\\\Downloads\\\\SQL Interview qns.pdf'}),\n",
       " Document(page_content=\"2. Consistency The database will move from one consistent state to another, if the transaction succeeds and remain in the original state, if the transaction fails.\\n\\n3. Isolation Every transaction should operate as if it is the only transaction in the system\\n\\n4. Durability Once a transaction has completed successfully, the updated rows/records must be available for all other transactions on a permanent basis\\n\\n32.What is a Database Lock ?\\n\\nDatabase lock tell a transaction, if the data item in questions is currently being used by other transactions.\\n\\n9 | P a g e\\n\\nSQL INTERVIEW QUESTIONS AND ANSWERS\\n\\n33. What are the type of locks ?\\n\\n1. Shared Lock When a shared lock is applied on data item, other transactions can only read the item, but can't write into it. 2. Exclusive Lock When a exclusive lock is applied on data item, other transactions can't read or write into the data item.\\n\\n34.What are the different type of normalization?\\n\\nFrequently asked SQL Interview Questions\", metadata={'source': 'C:\\\\Users\\\\jfrancis\\\\Downloads\\\\SQL Interview qns.pdf'}),\n",
       " Document(page_content='In database design , we start with one single table, with all possible columns. Lot of redundant data would be present since it’s a single table. The process of removing the redundant data, by splitting up the table in a well defined fashion is called normalization.\\n\\n1. First Normal Form (1NF) A relation is said to be in first normal form if and only if all underlying domains contain atomic values only. After 1NF, we can still have redundant data\\n\\n2. Second Normal Form (2NF) A relation is said to be in 2NF if and only if it is in 1NF and every non key attribute is fully dependent on the primary key. After 2NF, we can still have redundant data\\n\\n3. Third Normal Form (3NF) A relation is said to be in 3NF, if and only if it is in 2NF and every non key attribute is non- transitively dependent on the primary key\\n\\n35.What is a primary key?', metadata={'source': 'C:\\\\Users\\\\jfrancis\\\\Downloads\\\\SQL Interview qns.pdf'}),\n",
       " Document(page_content='Frequently asked SQL Interview Questions A primary key is a column whose values uniquely identify every row in a table. Primary key values can never be reused. If a row is deleted from the table, its primary key may not be assigned to any new rows in the future. To define a field as primary key, following conditions had to be met :\\n\\n1. No two rows can have the same primary key value. 2. Every row must have a primary key value 3. Primary key field cannot be null 4. Values in primary key columns can never be modified or updated\\n\\n10 | P a g e\\n\\nSQL INTERVIEW QUESTIONS AND ANSWERS\\n\\n36.What is a Composite Key ?\\n\\nA Composite primary key is a type of candidate key, which represents a set of columns whose values uniquely identify every row in a table.\\n\\nFor example - if \"Employee_ID\" and \"Employee Name\" in a table is combined to uniquely identifies a row its called a Composite Key.', metadata={'source': 'C:\\\\Users\\\\jfrancis\\\\Downloads\\\\SQL Interview qns.pdf'}),\n",
       " Document(page_content='37.What is a Composite Primary Key ? A Composite primary key is a set of columns whose values uniquely identify every row in a table. What it means is that, table which contains composite primary key will be indexed based on columns specified in the primary key. This key will be referred in Foreign Key tables. For example - if combined effect of columns, \"Employee_ID\" and \"Employee Name\" in a table is required to uniquely identifies a row, its called a Composite Primary Key. In this case, both the columns will be represented as primary key.\\n\\n38.What is a Foreign Key ?\\n\\nFrequently asked SQL Interview Questions When a \"one\" table\\'s primary key field is added to a related \"many\" table in order to create the common field which relates the two tables, it is called a foreign key in the \"many\" table.\\n\\nFor example, salary of an employee is stored in salary table. Relation is established via foreign key column “Employee_ID_Ref” which refers “Employee_ID” field in Employee table .', metadata={'source': 'C:\\\\Users\\\\jfrancis\\\\Downloads\\\\SQL Interview qns.pdf'}),\n",
       " Document(page_content='39. What is a Unique Key ?\\n\\nUnique key is same as primary with difference being existence of null. Unique key field allows one value as NULL value.\\n\\n40.Define SQL Insert Statement ?\\n\\nSQL INSERT statement is used to add rows to a table. For a full row insert , SQL Query should start with “insert into “ statement followed by table name and values command, followed by the values that need to be inserted into the table. Insert can be used in several ways: 1. To insert a single complete row 2. To insert a single partial row\\n\\n11 | P a g e\\n\\nSQL INTERVIEW QUESTIONS AND ANSWERS\\n\\n41. Define SQL Update Statement ?\\n\\nSQL Update is used to update data in a row or set of rows specified in the filter condition.\\n\\nThe basic format of an SQL UPDATE statement is ,Update command followed by table to be updated and SET command followed by column names and their new values followed by filter condition that determines which rows should be updated\\n\\n42. Define SQL Delete Statement ?', metadata={'source': 'C:\\\\Users\\\\jfrancis\\\\Downloads\\\\SQL Interview qns.pdf'}),\n",
       " Document(page_content=\"SQL Delete is used to delete a row or set of rows specified in the filter condition.\\n\\nThe basic format of an SQL DELETE statement is, DELETE FROM command followed by table name followed by filter condition that determines which rows should be updated.\\n\\n43.What are wild cards used in database for Pattern Matching ?\\n\\nSQL Like operator is user for pattern matching. SQL 'Like' command takes more time to process. So before using like operator, consider suggestions given below on when and where to use wild card search. 1) Don't overuse wild cards. If another search operator will do, use it instead. 2) When you do use wild cards, try not to use them at the beginning of the search pattern, unless absolutely necessary. Search patterns that begin with wild cards are the slowest to process. 3) Pay careful attention to the placement of the wild card symbols. If they are misplaced, you might not return the data you intended\\n\\n44. Define Join and explain different type of joins?\", metadata={'source': 'C:\\\\Users\\\\jfrancis\\\\Downloads\\\\SQL Interview qns.pdf'}),\n",
       " Document(page_content='In order to avoid data duplication, data is stored in related tables . Join keyword is used to fetch data from related table. Join return rows when there is at least one match in both tables . Type of joins are\\n\\nRight Join Return all rows from the right table, even if there are no matches in the left table . Outer Join Left Join Return all rows from the left table, even if there are no matches in the right table . Full Join Return rows when there is a match in one of the tables .\\n\\n12 | P a g e\\n\\nSQL INTERVIEW QUESTIONS AND ANSWERS\\n\\n45.What is Self-Join?\\n\\nSelf-join is query used to join a table to itself. Aliases should be used for the same table comparison.\\n\\n46. What is Cross Join?\\n\\nCross Join will return all records where each row from the first table is combined with each row from the second table.\\n\\nSQL Interview Questions and answers on Database Views\\n\\n47. What is a view?', metadata={'source': 'C:\\\\Users\\\\jfrancis\\\\Downloads\\\\SQL Interview qns.pdf'}),\n",
       " Document(page_content=\"Views are virtual tables. Unlike tables that contain data, views simply contain queries that dynamically retrieve data when used.\\n\\n48. What is a materialized view?\\n\\nMaterialized views is also a view but are disk based. Materialized views get updated on specific duration, base upon the interval specified in the query definition. We can index materialized view.\\n\\n49. What are the advantages and disadvantages of views in a database?\\n\\nAdvantages: 1. Views doesn't store data in a physical location. 2. View can be use to hide some of the columns from the table 3. Views can provide Access Restriction, since data insertion, update and deletion is not possible on the view.\\n\\nDisadvantages: 1. When a table is dropped, associated view become irrelevant. 2. Since view are created when a query requesting data from view is triggered, its bit slow 3. When views are created for large tables, it occupy more memory .\\n\\nSQL Interview Questions and answers on Stored Procedures and Triggers\", metadata={'source': 'C:\\\\Users\\\\jfrancis\\\\Downloads\\\\SQL Interview qns.pdf'}),\n",
       " Document(page_content='50. What is a stored procedure?\\n\\nStored Procedure is a function which contain collection of SQL Queries. Procedure can take inputs , process them and send back output.\\n\\n13 | P a g e\\n\\nSQL INTERVIEW QUESTIONS AND ANSWERS\\n\\n51.What are the advantages a stored procedure? Stored Procedures are pre-complied and stored in database. This enable the database to execute the queries much faster. Since many queries can be included in a stored procedure, round trip time to execute multiple queries from source code to database and back is avoided.\\n\\n52.What is a trigger?\\n\\nDatabase are set of commands that get executed when an event(Before Insert, After Insert, On Update, On delete of a row) occurs on a table, views.\\n\\n53. Explain the difference between DELETE , TRUNCATE and DROP commands?', metadata={'source': 'C:\\\\Users\\\\jfrancis\\\\Downloads\\\\SQL Interview qns.pdf'}),\n",
       " Document(page_content='Once delete operation is performed, Commit and Rollback can be performed to retrieve data. Once truncate statement is executed, Commit and Rollback statement cant be performed. Where condition can be used along with delete statement but it cant be used with truncate statement. Drop command is used to drop the table or keys like primary,foreign from a table.\\n\\n54. What is the difference between Cluster and Non cluster Index?\\n\\nA clustered index reorders the way records in the table are physically stored. There can be only one clustered index per table. It make data retrieval faster.\\n\\nA non clustered index does not alter the way it was stored but creates a complete separate object within the table. As a result insert and update command will be faster.\\n\\n55. What is Union, minus and Interact commands?\\n\\nMINUS operator is used to return rows from the first query but not from the second query. INTERSECT operator is used to return rows returned by both the queries.', metadata={'source': 'C:\\\\Users\\\\jfrancis\\\\Downloads\\\\SQL Interview qns.pdf'}),\n",
       " Document(page_content=\"56.What's the difference between a primary key and a unique key? Both primary key and unique enforce uniqueness of the column on which they are defined. But by default primary key creates a clustered index on the column, where are unique creates a non clustered index by default. Another major difference is that, primary key doesn't allow NULLs, but unique key allows one NULL only.\\n\\n57. What are user defined datatypes and when you should go for them? User defined datatypes let you extend the base SQL Server datatypes by providing a descriptive name, and format to the database. Take for example, in your database, there is a column called Flight_Num which appears in many tables. In all these tables it should be varchar(8). In this case you could create a user defined datatype called Flight_num_type of varchar(8) and use it across all your tables.\\n\\n14 | P a g e\\n\\nSQL INTERVIEW QUESTIONS AND ANSWERS\", metadata={'source': 'C:\\\\Users\\\\jfrancis\\\\Downloads\\\\SQL Interview qns.pdf'}),\n",
       " Document(page_content=\"58.How do you implement one-to-one, one-to-many and many-to-many relationships while designing tables? One-to-One relationship can be implemented as a single table and rarely as two tables with primary and foreign key relationships. One-to-Many relationships are implemented by splitting the data into two tables with primary key and foreign key relationships. Many-to-Many relationships are implemented using a junction table with the keys from both the tables forming the composite primary key of the junction table.\\n\\n59.What is bit datatype and what's the information that can be stored inside a bit column? Bit datatype is used to store boolean information like 1 or 0 (true or false). Until SQL Server 6.5 bit datatype could hold either a 1 or 0 and there was no support for NULL. But from SQL Server 7.0 onwards, bit datatype can represent a third state, which is NULL.\", metadata={'source': 'C:\\\\Users\\\\jfrancis\\\\Downloads\\\\SQL Interview qns.pdf'}),\n",
       " Document(page_content=\"60.Define candidate key, alternate key, composite key A candidate key is one that can identify each row of a table uniquely. Generally a candidate key becomes the primary key of the table. If the table has more than one candidate key, one of them will become the primary key, and the rest are called alternate keys. A key formed by combining at least two or more columns is called composite key.\\n\\n61. What are defaults? Is there a column to which a default can't be bound? A default is a value that will be used by a column, if no value is supplied to that column while inserting data. IDENTITY columns and timestamp columns can't have defaults bound to them. See CREATE DEFUALT in books online.\", metadata={'source': 'C:\\\\Users\\\\jfrancis\\\\Downloads\\\\SQL Interview qns.pdf'}),\n",
       " Document(page_content='62. What is a transaction and what are ACID properties? A transaction is a logical unit of work in which, all the steps must be performed or none. ACID stands for Atomicity, Consistency, Isolation, Durability. These are the properties of a transaction. For more information and explanation of these properties, see SQL Server books online or any RDBMS fundamentals text book.\\n\\n63.Explain different isolation levels An isolation level determines the degree of isolation of data between concurrent transactions. The default SQL Server isolation level is Read Committed. Here are the other isolation levels (in the ascending order of isolation): Read Uncommitted, Read Committed, Repeatable Read, Serializable. See SQL Server books online for an explanation of the isolation levels. Be sure to read about SET TRANSACTION ISOLATION LEVEL, which lets you customize the isolation level at the connection level.', metadata={'source': 'C:\\\\Users\\\\jfrancis\\\\Downloads\\\\SQL Interview qns.pdf'}),\n",
       " Document(page_content='64.CREATE INDEX myIndex ON myTable(myColumn) What type of Index will get created after executing the above statement? Non-clustered index. Important thing to note: By default a clustered index gets created on the primary key, unless specified otherwise.\\n\\n15 | P a g e\\n\\nSQL INTERVIEW QUESTIONS AND ANSWERS\\n\\n65.What\\'s the maximum size of a row? 8060 bytes. Don\\'t be surprised with questions like \\'what is the maximum number of columns per table\\'. Check out SQL Server books online for the page titled: \"Maximum Capacity Specifications\".\\n\\n66. Explain Active/Active and Active/Passive cluster configurations Hopefully you have experience setting up cluster servers. But if you don\\'t, at least be familiar with the way clustering works and the two clustering configurations Active/Active and Active/Passive. SQL Server books online has enough information on this topic and there is a good white paper available on Microsoft site.', metadata={'source': 'C:\\\\Users\\\\jfrancis\\\\Downloads\\\\SQL Interview qns.pdf'}),\n",
       " Document(page_content=\"67. Explain the architecture of SQL Server This is a very important question and you better be able to answer it if consider yourself a DBA. SQL Server books online is the best place to read about SQL Server architecture. Read up the chapter dedicated to SQL Server Architecture.\\n\\n68. What is lock escalation? Lock escalation is the process of converting a lot of low level locks (like row locks, page locks) into higher level locks (like table locks). Every lock is a memory structure too many locks would mean, more memory being occupied by locks. To prevent this from happening, SQL Server escalates the many fine-grain locks to fewer coarse-grain locks. Lock escalation threshold was definable in SQL Server 6.5, but from SQL Server 7.0 onwards it's dynamically managed by SQL Server.\", metadata={'source': 'C:\\\\Users\\\\jfrancis\\\\Downloads\\\\SQL Interview qns.pdf'}),\n",
       " Document(page_content=\"69.What is the difference between DELETE TABLE and TRUNCATE TABLE commands? DELETE TABLE is a logged operation, so the deletion of each row gets logged in the transaction log, which makes it slow. TRUNCATE TABLE also deletes all the rows in a table, but it won't log the deletion of each row, instead it logs the de-allocation of the data pages of the table, which makes it faster. Of course, TRUNCATE TABLE can be rolled back.\\n\\n70. Explain the storage models of OLAP Check out MOLAP, ROLAP and HOLAP in SQL Server books online for more information.\", metadata={'source': 'C:\\\\Users\\\\jfrancis\\\\Downloads\\\\SQL Interview qns.pdf'}),\n",
       " Document(page_content='71. What are the new features introduced in SQL Server 2000 (or the latest release of SQL Server at the time of your interview)? What changed between the previous version of SQL Server and the current version? This question is generally asked to see how current is your knowledge. Generally there is a section in the beginning of the books online titled \"What\\'s New\", which has all such information. Of course, reading just that is not enough, you should have tried those things to better answer the questions. Also check out the section titled \"Backward Compatibility\" in books online which talks about the changes that have taken place in the new version.\\n\\n16 | P a g e\\n\\nSQL INTERVIEW QUESTIONS AND ANSWERS', metadata={'source': 'C:\\\\Users\\\\jfrancis\\\\Downloads\\\\SQL Interview qns.pdf'}),\n",
       " Document(page_content='72. What are constraints? Explain different types of constraints Constraints enable the RDBMS enforce the integrity of the database automatically, without needing you to create triggers, rule or defaults. Types of constraints: NOT NULL, CHECK, UNIQUE, PRIMARY KEY, FOREIGN KEY For an explanation of these constraints see books online for the pages titled: \"Constraints\" and \"CREATE TABLE\", \"ALTER TABLE\"\\n\\n73. What is an index? What are the types of indexes? How many clustered indexes can be created on a table? I create a separate index on each column of a table. what are the advantages and disadvantages of this approach? Indexes in SQL Server are similar to the indexes in books. They help SQL Server retrieve the data quicker.', metadata={'source': 'C:\\\\Users\\\\jfrancis\\\\Downloads\\\\SQL Interview qns.pdf'}),\n",
       " Document(page_content=\"Indexes are of two types. Clustered indexes and non-clustered indexes. When you createe a clustered index on a table, all the rows in the table are stored in the order of the clustered index key. So, there can be only one clustered index per table. Non-clustered indexes have their own storage separate from the table data storage. Non-clustered indexes are stored as B-tree structures (so do clustered indexes), with the leaf level nodes having the index key and it's row locater. The row located could be the RID or the Clustered index key, depending up on the absence or presence of clustered index on the table.\", metadata={'source': 'C:\\\\Users\\\\jfrancis\\\\Downloads\\\\SQL Interview qns.pdf'}),\n",
       " Document(page_content=\"If you create an index on each column of a table, it improves the query performance, as the query optimizer can choose from all the existing indexes to come up with an efficient execution plan. At the same time, data modification operations (such as INSERT, UPDATE, DELETE) will become slow, as every time data changes in the table, all the indexes need to be updated. Another disadvantage is that, indexes need disk space, the more indexes you have, more disk space is used.\\n\\n74. What is RAID and what are different types of RAID configurations? RAID stands for Redundant Array of Inexpensive Disks, used to provide fault tolerance to database servers. There are six RAID levels 0 through 5 offering different levels of performance, fault tolerance. MSDN has some information about RAID levels and for detailed information, check out the RAID advisory board's homepage.\", metadata={'source': 'C:\\\\Users\\\\jfrancis\\\\Downloads\\\\SQL Interview qns.pdf'}),\n",
       " Document(page_content='75. What are the steps you will take to improve performance of a poor performing query? This is a very open ended question and there could be a lot of reasons behind the poor performance of a query. But some general issues that you could talk about would be: No indexes, table scans, missing or out of date statistics, blocking, excess recompilations of stored procedures, procedures and triggers without SET NOCOUNT ON, poorly written query with unnecessarily complicated joins, too much normalization, excess usage of cursors and temporary tables. Some of the tools/ways that help you troubleshooting performance problems are: SET SHOWPLAN_ALL ON, SET SHOWPLAN_TEXT ON, SET STATISTICS IO ON, SQL Server Profiler, Windows NT /2000 Performance monitor, Graphical execution plan in Query Analyzer.\\n\\n17 | P a g e\\n\\nSQL INTERVIEW QUESTIONS AND ANSWERS', metadata={'source': 'C:\\\\Users\\\\jfrancis\\\\Downloads\\\\SQL Interview qns.pdf'}),\n",
       " Document(page_content='76. What are the steps you will take, if you are tasked with securing an SQL Server? Again this is another open ended question. Here are some things you could talk about: Preferring NT authentication, using server, database and application roles to control access to the data, securing the physical database files using NTFS permissions, using an unguessable SA password, restricting physical access to the SQL Server, renaming the Administrator account on the SQL Server computer, disabling the Guest account, enabling auditing, using multiprotocol encryption, setting up SSL, setting up firewalls, isolating SQL Server from the web server etc.', metadata={'source': 'C:\\\\Users\\\\jfrancis\\\\Downloads\\\\SQL Interview qns.pdf'}),\n",
       " Document(page_content=\"77. What is a deadlock and what is a live lock? How will you go about resolving deadlocks? Deadlock is a situation when two processes, each having a lock on one piece of data, attempt to acquire a lock on the other's piece. Each process would wait indefinitely for the other to release the lock, unless one of the user processes is terminated. SQL Server detects deadlocks and terminates one user's process. A live lock is one, where a request for an exclusive lock is repeatedly denied because a series of overlapping shared locks keeps interfering. SQL Server detects the situation after four denials and refuses further shared locks. A live lock also occurs when read transactions monopolize a table or page, forcing a write transaction to wait indefinitely.\", metadata={'source': 'C:\\\\Users\\\\jfrancis\\\\Downloads\\\\SQL Interview qns.pdf'}),\n",
       " Document(page_content=\"78. What is blocking and how would you troubleshoot it? Blocking happens when one connection from an application holds a lock and a second connection requires a conflicting lock type. This forces the second connection to wait, blocked on the first.\\n\\n79. Explain CREATE DATABASE syntax Many of us are used to creating databases from the Enterprise Manager or by just issuing the command: CREATE DATABAE MyDB. But what if you have to create a database with two file groups, one on drive C and the other on drive D with log on drive E with an initial size of 600 MB and with a growth factor of 15%? That's why being a DBA you should be familiar with the CREATE DATABASE syntax. Check out SQL Server books online for more information.\", metadata={'source': 'C:\\\\Users\\\\jfrancis\\\\Downloads\\\\SQL Interview qns.pdf'}),\n",
       " Document(page_content='80. How to restart SQL Server in single user mode? How to start SQL Server in minimal configuration mode? SQL Server can be started from command line, using the SQLSERVR.EXE. This EXE has some very important parameters with which a DBA should be familiar with. -m is used for starting SQL Server in single user mode and -f is used to start the SQL Server in minimal configuration mode. Check out SQL Server books online for more parameters and their explanations.\\n\\n18 | P a g e\\n\\nSQL INTERVIEW QUESTIONS AND ANSWERS\\n\\n81. As a part of your job, what are the DBCC commands that you commonly use for database maintenance? DBCC CHECKDB, DBCC CHECKTABLE, DBCC CHECKCATALOG, DBCC CHECKALLOC, DBCC SHOWCONTIG, DBCC SHRINKDATABASE, DBCC SHRINKFILE etc. But there are a whole load of DBCC commands which are very useful for DBAs. Check out SQL Server books online for more information.', metadata={'source': 'C:\\\\Users\\\\jfrancis\\\\Downloads\\\\SQL Interview qns.pdf'}),\n",
       " Document(page_content='82. What are statistics, under what circumstances they go out of date, how do you update them? Statistics determine the selectivity of the indexes. If an indexed column has unique values then the selectivity of that index is more, as opposed to an index with non-unique values. Query optimizer uses these indexes in determining whether to choose an index or not while executing a query. Some situations under which you should update statistics: 1) If there is significant change in the key values in the index 2) If a large amount of data in an indexed column has been added, changed, or removed (that is, if the distribution of key values has changed), or the table has been truncated using the TRUNCATE TABLE statement and then repopulated 3) Database is upgraded from a previous version', metadata={'source': 'C:\\\\Users\\\\jfrancis\\\\Downloads\\\\SQL Interview qns.pdf'}),\n",
       " Document(page_content='83. What are the different ways of moving data/databases between servers and databases in SQL Server? There are lots of options available, you have to choose your option depending upon your requirements. Some of the options you have are: BACKUP/RESTORE, dettaching and attaching databases, replication, DTS, BCP, logshipping, INSERT...SELECT, SELECT...INTO, creating INSERT scripts to generate data.\\n\\n84. Explain different types of BACKUPs available in SQL Server? Given a particular scenario, how would you go about choosing a backup plan? Types of backups you can create in SQL Server 7.0+ are Full database backup, differential database backup, transaction log backup, file group backup. Check out the BACKUP and RESTORE commands in SQL Server books online. Be prepared to write the commands in your interview. Books online also has information on detailed backup/restore architecture and when one should go for a particular kind of backup.', metadata={'source': 'C:\\\\Users\\\\jfrancis\\\\Downloads\\\\SQL Interview qns.pdf'}),\n",
       " Document(page_content='85.What is database replication? What are the different types of replication you can set up in SQL Server? Replication is the process of copying/moving data between databases on the same or different servers. SQL Server supports the following types of replication scenarios: o Snapshot replication o Transactional replication (with immediate updating subscribers, with queued updating subscribers) o Merge replication\\n\\n19 | P a g e\\n\\nSQL INTERVIEW QUESTIONS AND ANSWERS\\n\\n86. How to determine the service pack currently installed on SQL Server? The global variable @@Version stores the build number of the sqlservr.exe, which is used to determine the service pack installed. To know more about this process visit\\n\\n87.What are cursors? Explain different types of cursors. What are the disadvantages of cursors? How can you avoid cursors? Cursors allow row-by-row processing of the result sets. Types of cursors: Static, Dynamic, Forward-only, Keyset-driven. See books online for more information.', metadata={'source': 'C:\\\\Users\\\\jfrancis\\\\Downloads\\\\SQL Interview qns.pdf'}),\n",
       " Document(page_content='Disadvantages of cursors: Each time you fetch a row from the cursor, it results in a network roundtrip, where as a normal SELECT query makes only one rowundtrip, however large the resultset is. Cursors are also costly because they require more resources and temporary storage (results in more IO operations). Furthere, there are restrictions on the SELECT statements that can be used with some types of cursors. Most of the times, set based operations can be used instead of cursors. Here is an example: If you have to give a flat hike to your employees using the following criteria:', metadata={'source': 'C:\\\\Users\\\\jfrancis\\\\Downloads\\\\SQL Interview qns.pdf'}),\n",
       " Document(page_content=\"Salary between 30000 and 40000 -- 5000 hike Salary between 40000 and 55000 -- 7000 hike Salary between 55000 and 65000 -- 9000 hike In this situation many developers tend to use a cursor, determine each employee's salary and update his salary according to the above formula. But the same can be achieved by multiple update statements or can be combined in a single UPDATE statement as shown below: UPDATE tbl_emp SET salary = CASE WHEN salary BETWEEN 30000 AND 40000 THEN salary + 5000 WHEN salary BETWEEN 40000 AND 55000 THEN salary + 7000 WHEN salary BETWEEN 55000 AND 65000 THEN salary + 10000 END\\n\\nAnother situation in which developers tend to use cursors: You need to call a stored procedure when a column in a particular row meets certain condition. You don't have to use cursors for this. This can be achieved using WHILE loop, as long as there is a unique key to identify each row.\", metadata={'source': 'C:\\\\Users\\\\jfrancis\\\\Downloads\\\\SQL Interview qns.pdf'}),\n",
       " Document(page_content=\"88. Write down the general syntax for a SELECT statements covering all the options Here's the basic syntax: (Also checkout SELECT in books online for advanced syntax).\\n\\nSELECT select_list [INTO new_table_] FROM table_source [WHERE search_condition] [GROUP BY group_by_expression] [HAVING search_condition] [ORDER BY order_expression [ASC | DESC] ]\\n\\n20 | P a g e\\n\\nSQL INTERVIEW QUESTIONS AND ANSWERS\\n\\n89. What is a join and explain different types of joins Joins are used in queries to explain how different tables are related. Joins also let you select data from a table depending upon data from another table. Types of joins: INNER JOINs, OUTER JOINs, CROSS JOINs,OUTER JOINs are further classified as LEFT OUTER JOINS, RIGHT OUTER JOINS and FULL OUTER JOINS.\\n\\n90. Can you have a nested transaction? Yes, very much. Check out BEGIN TRAN, COMMIT, ROLLBACK, SAVE TRAN and @@TRANCOUNT\", metadata={'source': 'C:\\\\Users\\\\jfrancis\\\\Downloads\\\\SQL Interview qns.pdf'}),\n",
       " Document(page_content=\"91. What is an extended stored procedure? Can you instantiate a COM object by using T-SQL? An extended stored procedure is a function within a DLL (written in a programming language like C, C++ using Open Data Services (ODS) API) that can be called from T-SQL,just the way we call normal stored procedures using the EXEC statement. See books online to learn how to create extended stored procedures and how to add them to SQL Server. Yes, you can instantiate a COM (written in languages like VB, VC++) object from T-SQL by using sp_OA Create stored procedure.\\n\\n92. What is the system function to get the current user's user id? USER_ID().Also check out other system functions like USER_NAME(), SYSTEM_USER, SESSION_USER, CURRENT_USER, USER, SUSER_SID(), HOST_NAME().\", metadata={'source': 'C:\\\\Users\\\\jfrancis\\\\Downloads\\\\SQL Interview qns.pdf'}),\n",
       " Document(page_content=\"93. What are triggers? How many triggers you can have on a table? How to invoke a trigger on demand? Triggers are special kind of stored procedures that get executed automatically when an INSERT, UPDATE or DELETE operation takes place on a table. In SQL Server 6.5 you could define only 3 triggers per table, one for INSERT, one for UPDATE and one for DELETE. From SQL Server 7.0 onwards, this restriction is gone, and you could create multiple triggers per each action. But in 7.0 there's no way to control the order in which the triggers fire. In SQL Server 2000 you could specify which trigger fires first or fires last using sp_settriggerorder\\n\\nTriggers can't be invoked on demand. They get triggered only when an associated action (INSERT, UPDATE, DELETE) happens on the table on which they are defined.\", metadata={'source': 'C:\\\\Users\\\\jfrancis\\\\Downloads\\\\SQL Interview qns.pdf'}),\n",
       " Document(page_content='Triggers are generally used to implement business rules, auditing. Triggers can also be used to extend the referential integrity checks, but wherever possible, use constraints for this purpose, instead of triggers, as constraints are much faster.\\n\\nTill SQL Server 7.0, triggers fire only after the data modification operation happens. So in a way, they are called post triggers. But in SQL Server 2000 you could create pre triggers also. Search SQL Server 2000 books online for INSTEAD OF triggers.\\n\\n21 | P a g e\\n\\nSQL INTERVIEW QUESTIONS AND ANSWERS', metadata={'source': 'C:\\\\Users\\\\jfrancis\\\\Downloads\\\\SQL Interview qns.pdf'}),\n",
       " Document(page_content='94. There is a trigger defined for INSERT operations on a table, in an OLTP system. The trigger is written to instantiate a COM object and pass the newly insterted rows to it for some custom processing. What do you think of this implementation? Can this be implemented better? Instantiating COM objects is a time consuming process and since you are doing it from within a trigger, it slows down the data insertion process. Same is the case with sending emails from triggers. This scenario can be better implemented by logging all the necessary data into a separate table, and have a job which periodically checks this table and does the needful.\\n\\n95. What is a self join? Explain it with an example Self join is just like any other join, except that two instances of the same table will be joined in the query. Here is an example: Employees table which contains rows for normal employees as well as managers. So, to find out the managers of all the employees, you need a self join.', metadata={'source': 'C:\\\\Users\\\\jfrancis\\\\Downloads\\\\SQL Interview qns.pdf'}),\n",
       " Document(page_content=\"CREATE TABLE emp ( empid int, mgrid int, empname char(10) )\\n\\nINSERT emp SELECT 1,2,'Vyas' INSERT emp SELECT 2,3,'Mohan' INSERT emp SELECT 3,NULL,'Shobha' INSERT emp SELECT 4,2,'Shridhar' INSERT emp SELECT 5,2,'Sourabh'\\n\\nSELECT t1.empname [Employee], t2.empname [Manager] FROM emp t1, emp t2 WHERE t1.mgrid = t2.empid Here's an advanced query using a LEFT OUTER JOIN that even returns the employees without managers (super bosses)\\n\\nSELECT t1.empname [Employee], COALESCE(t2.empname, 'No manager') [Manager] FROM emp t1 LEFT OUTER JOIN emp t2 ON t1.mgrid = t2.empid\\n\\n22 | P a g e\\n\\nSQL INTERVIEW QUESTIONS AND ANSWERS\\n\\n96.Define Fact tables and dimension tables.\\n\\nFact tables are central tables in data warehousing. They contain the aggregate values that are used in business process.\\n\\n97.Explain the ETL process in Data warehousing.\\n\\nExtraction, Transformation and loading are different stages in data warehousing.\\n\\n98.What is Data mining?\", metadata={'source': 'C:\\\\Users\\\\jfrancis\\\\Downloads\\\\SQL Interview qns.pdf'}),\n",
       " Document(page_content='Data mining is a process of analyzing current data and summarizing the information in more useful manner.\\n\\n99.What are indexes?\\n\\nIndex can be thought as index of the book that is used for fast retrieval of information. Index uses one or more column index keys and pointers to the record to locate record.\\n\\n100.Explain the types of indexes?\\n\\nClustered index Non-clustered.\\n\\n101.Define SQL.\\n\\nSQL stands for Structured Query Language. It allows access, insert/update/delete records and retrieve data from the database.\\n\\n102.What is RDBMS? Explain its features.\\n\\nRDBMS stands for Relational Database Management System. It organizes data into related rows and columns.\\n\\n23 | P a g e\\n\\nSQL INTERVIEW QUESTIONS AND ANSWERS\\n\\n103.What is an Entity-Relationship diagram?\\n\\nIt is a graphical representation of tables with the relationship between them. Read answer\\n\\n104.Define referential integrity.', metadata={'source': 'C:\\\\Users\\\\jfrancis\\\\Downloads\\\\SQL Interview qns.pdf'}),\n",
       " Document(page_content=\"It is the rules that are applied when the relationships are created. It ensures integrity of data and prevents inconsistent data into the tables.\\n\\n105.Define Primary key and Foreign key.\\n\\nA column or combination of columns that identify a row of data in a table is Primary Key.\\n\\n106.Define alternate key.\\n\\nThere can be a key apart from primary key in a table that can also be a key. This key may or may not be a unique key.\\n\\n107.Delete vs. Truncate table.\\n\\nDelete logs the deletion of each row whereas Truncate doesn't log deleted rows in the transaction log. This makes truncate command is bit faster than Delete command.\\n\\n108.Define constraints.\\n\\nConstraints enforce integrity of the database. Constraints can be of following types\\n\\nNot Null Check Unique Primary key Foreign key\\n\\n109.Define stored procedure.Stored procedure is a set of pre-compiled SQL statements, executed when it is called in the program.\\n\\n110.Define Trigger.\", metadata={'source': 'C:\\\\Users\\\\jfrancis\\\\Downloads\\\\SQL Interview qns.pdf'}),\n",
       " Document(page_content='Triggers are similar to stored procedure except it is executed automatically when any operations are occurred on the table.\\n\\n24 | P a g e\\n\\nSQL INTERVIEW QUESTIONS AND ANSWERS\\n\\n111. What is RDBMS?\\n\\nRelational Data Base Management Systems (RDBMS) are database management systems that maintain data records and indices in tables. Relationships may be created and maintained across and among the data and tables. In a relational database, relationships between data items are expressed by means of tables. Interdependencies among these tables are expressed by data values rather than by pointers. This allows a high degree of data independence. An RDBMS has the capability to recombine the data items from different files, providing powerful tools for data usage.\\n\\n112. What are the properties of the Relational tables?\\n\\nRelational tables have six properties:', metadata={'source': 'C:\\\\Users\\\\jfrancis\\\\Downloads\\\\SQL Interview qns.pdf'}),\n",
       " Document(page_content='1. Values are atomic. 2. Column values are of the same kind. 3. Each row is unique. 4. The sequence of columns is insignificant. 5. The sequence of rows is insignificant. 6. Each column must have a unique name.\\n\\n113. What is Normalization?\\n\\nDatabase normalization is a data design and organization process applied to data structures based on rules that help building relational databases. In relational database design, the process of organizing data to minimize redundancy is called normalization. Normalization usually involves dividing a database into two or more tables and defining relationships between the tables. The objective is to isolate data so that additions, deletions, and modifications of a field can be made in just one table and then propagated through the rest of the database via the defined relationships.\\n\\n114. What is De-normalization?', metadata={'source': 'C:\\\\Users\\\\jfrancis\\\\Downloads\\\\SQL Interview qns.pdf'}),\n",
       " Document(page_content='De-normalization is the process of attempting to optimize the performance of a database by adding redundant data. It is sometimes necessary because current DBMSs implement the relational model poorly. A true relational DBMS would allow for a fully normalized database at the logical level, while providing physical storage of data that is tuned for high performance. De-normalization is a technique to move from higher to lower normal forms of database modeling in order to speed up database access.\\n\\n115. What are different normalization forms?\\n\\n1. 1NF: Eliminate Repeating Groups Make a separate table for each set of related\\n\\nattributes, and give each table a primary key. Each field contains at most one value from its attribute domain.\\n\\n25 | P a g e\\n\\nSQL INTERVIEW QUESTIONS AND ANSWERS\\n\\n2. 2NF: Eliminate Redundant Data If an attribute depends on only part of a multi-\\n\\nvalued key, remove it to a separate table.', metadata={'source': 'C:\\\\Users\\\\jfrancis\\\\Downloads\\\\SQL Interview qns.pdf'}),\n",
       " Document(page_content='3. 3NF: Eliminate Columns Not Dependent On Key If attributes do not contribute to a description of the key, remove them to a separate table. All attributes must be directly dependent on the primary key.\\n\\n4. BCNF: Boyce-Codd Normal Form If there are non-trivial dependencies between\\n\\ncandidate key attributes, separate them out into distinct tables.\\n\\n5. 4NF: Isolate Independent Multiple Relationships No table may contain two or\\n\\nmore 1:n or n:m relationships that are not directly related.\\n\\n6. 5NF: Isolate Semantically Related Multiple Relationships There may be practical constrains on information that justify separating logically related many-to-many relationships.\\n\\n7. ONF: Optimal Normal Form A model limited to only simple (elemental) facts, as\\n\\nexpressed in Object Role Model notation.\\n\\n8. DKNF: Domain-Key Normal Form A model free from all modification anomalies is\\n\\nsaid to be in DKNF.', metadata={'source': 'C:\\\\Users\\\\jfrancis\\\\Downloads\\\\SQL Interview qns.pdf'}),\n",
       " Document(page_content='Remember, these normalization guidelines are cumulative. For a database to be in 3NF, it must first fulfill all the criteria of a 2NF and 1NF database.\\n\\n116. What is Stored Procedure?\\n\\nA stored procedure is a named group of SQL statements that have been previously created and stored in the server database. Stored procedures accept input parameters so that a single procedure can be used over the network by several clients using different input data. And when the procedure is modified, all clients automatically get the new version. Stored procedures reduce network traffic and improve performance. Stored procedures can be used to help ensure the integrity of the database. e.g. sp_helpdb, sp_renamedb, sp_depends etc.\\n\\n117. What is Trigger?', metadata={'source': 'C:\\\\Users\\\\jfrancis\\\\Downloads\\\\SQL Interview qns.pdf'}),\n",
       " Document(page_content='A trigger is a SQL procedure that initiates an action when an event (INSERT, DELETE or UPDATE) occurs. Triggers are stored in and managed by the DBMS. Triggers are used to maintain the referential integrity of data by changing the data in a systematic fashion. A trigger cannot be called or executed; DBMS automatically fires the trigger as a result of a data modification to the associated table. Triggers can be viewed as similar to stored procedures in that both consist of procedural logic that is stored at the database level. Stored procedures, however, are not event-drive and are not attached to a specific table as triggers are. Stored procedures are explicitly executed by invoking a CALL to the procedure while triggers are implicitly executed. In addition, triggers can also execute stored procedures.\\n\\n26 | P a g e\\n\\nSQL INTERVIEW QUESTIONS AND ANSWERS\\n\\n118. What is Nested Trigger?', metadata={'source': 'C:\\\\Users\\\\jfrancis\\\\Downloads\\\\SQL Interview qns.pdf'}),\n",
       " Document(page_content='A trigger can also contain INSERT, UPDATE and DELETE logic within itself, so when the trigger is fired because of data modification it can also cause another data modification, thereby firing another trigger. A trigger that contains data modification logic within itself is called a nested trigger.\\n\\n119. What is View?\\n\\nA simple view can be thought of as a subset of a table. It can be used for retrieving data, as well as updating or deleting rows. Rows updated or deleted in the view are updated or deleted in the table the view was created with. It should also be noted that as data in the original table changes, so does data in the view, as views are the way to look at part of the original table. The results of using a view are not permanently stored in the database. The data accessed through a view is actually constructed using standard T-SQL select command and can come from one to many different base tables or even other views.\\n\\n120. What is Index?', metadata={'source': 'C:\\\\Users\\\\jfrancis\\\\Downloads\\\\SQL Interview qns.pdf'}),\n",
       " Document(page_content='An index is a physical structure containing pointers to the data. Indices are created in an existing table to locate rows more quickly and efficiently. It is possible to create an index on one or more columns of a table, and each index is given a name. The users cannot see the indexes; they are just used to speed up queries. Effective indexes are one of the best ways to improve performance in a database application. A table scan happens when there is no index available to help a query. In a table scan SQL Server examines every row in the table to satisfy the query results. Table scans are sometimes unavoidable, but on large tables, scans have a terrific impact on performance.\\n\\n121. What is a Linked Server?', metadata={'source': 'C:\\\\Users\\\\jfrancis\\\\Downloads\\\\SQL Interview qns.pdf'}),\n",
       " Document(page_content='Linked Servers is a concept in SQL Server by which we can add other SQL Server to a Group and query both the SQL Server dbs using T-SQL Statements. With a linked server, you can create very clean, easy to follow, SQL statements that allow remote data to be retrieved, joined and combined with local data. Stored Procedure sp_addlinkedserver, sp_addlinkedserverlogin will be used add new Linked Server.\\n\\n122. What is Cursor?\\n\\nCursor is a database object used by applications to manipulate data in a set on a row-by- row basis, instead of the typical SQL commands that operate on all the rows in the set at one time. In order to work with a cursor we need to perform some steps in the following order:\\n\\n1. Declare cursor 2. Open cursor 3. Fetch row from the cursor\\n\\n27 | P a g e\\n\\nSQL INTERVIEW QUESTIONS AND ANSWERS\\n\\n4. Process fetched row 5. Close cursor 6. De-allocate cursor\\n\\n123. What is Collation?', metadata={'source': 'C:\\\\Users\\\\jfrancis\\\\Downloads\\\\SQL Interview qns.pdf'}),\n",
       " Document(page_content=\"Collation refers to a set of rules that determine how data is sorted and compared. Character data is sorted using rules that define the correct character sequence, with options for specifying case sensitivity, accent marks, kana character types and character width.\\n\\n124. What is Difference between Function and Stored Procedure?\\n\\nUDF can be used in the SQL statements anywhere in the WHERE/HAVING/SELECT section where as Stored procedures cannot be. UDFs that return tables can be treated as another row set. This can be used in JOINs with other tables. Inline UDF's can be thought of as views that take parameters and can be used in JOINs and other Row set operations.\\n\\n125. What is sub-query? Explain properties of sub-query?\", metadata={'source': 'C:\\\\Users\\\\jfrancis\\\\Downloads\\\\SQL Interview qns.pdf'}),\n",
       " Document(page_content='Sub-queries are often referred to as sub-selects, as they allow a SELECT statement to be executed arbitrarily within the body of another SQL statement. A sub-query is executed by enclosing it in a set of parentheses. Sub-queries are generally used to return a single row as an atomic value, though they may be used to compare values against multiple rows with the IN keyword.', metadata={'source': 'C:\\\\Users\\\\jfrancis\\\\Downloads\\\\SQL Interview qns.pdf'}),\n",
       " Document(page_content='A subquery is a SELECT statement that is nested within another T-SQL statement. A subquery SELECT statement if executed independently of the T-SQL statement, in which it is nested, will return a resultset. Meaning a subquery SELECT statement can standalone and is not depended on the statement in which it is nested. A subquery SELECT statement can return any number of values, and can be found in, the column list of a SELECT statement, a FROM, GROUP BY, HAVING, and/or ORDER BY clauses of a T-SQL statement. A Subquery can also be used as a parameter to a function call. Basically a subquery can be used anywhere an expression can be used.\\n\\n126. What are different Types of Join?\\n\\n1. Cross Join A cross join that does not have a WHERE clause produces the Cartesian', metadata={'source': 'C:\\\\Users\\\\jfrancis\\\\Downloads\\\\SQL Interview qns.pdf'}),\n",
       " Document(page_content='product of the tables involved in the join. The size of a Cartesian product result set is the number of rows in the first table multiplied by the number of rows in the second table. The common example is when company wants to combine each product with a pricing table to analyze each product at each price.\\n\\n2. Inner Join A join that displays only the rows that have a match in both joined tables\\n\\nis known as inner Join. This is the default type of join in the Query and View Designer.\\n\\n28 | P a g e\\n\\nSQL INTERVIEW QUESTIONS AND ANSWERS\\n\\n3. Outer Join A join that includes rows even if they do not have related rows in the\\n\\njoined table is an Outer Join. You can create three different outer join to specify the unmatched rows to be included:\\n\\n1. Left Outer Join: In Left Outer Join all rows in the first-named table i.e. \"left\" table, which appears leftmost in the JOIN clause are included. Unmatched rows in the right table do not appear.', metadata={'source': 'C:\\\\Users\\\\jfrancis\\\\Downloads\\\\SQL Interview qns.pdf'}),\n",
       " Document(page_content='2. Right Outer Join: In Right Outer Join all rows in the second-named table i.e.\\n\\n\"right\" table, which appears rightmost in the JOIN clause are included. Unmatched rows in the left table are not included.\\n\\n3. Full Outer Join: In Full Outer Join all rows in all joined tables are included,\\n\\nwhether they are matched or not.\\n\\n4. Self Join This is a particular case when one table joins to itself, with one or two\\n\\naliases to avoid confusion. A self join can be of any type, as long as the joined tables are the same. A self join is rather unique in that it involves a relationship with only one table. The common example is when company has a hierarchal reporting structure whereby one member of staff reports to another. Self Join can be Outer Join or Inner Join.\\n\\n127. What are primary keys and foreign keys?', metadata={'source': 'C:\\\\Users\\\\jfrancis\\\\Downloads\\\\SQL Interview qns.pdf'}),\n",
       " Document(page_content='Primary keys are the unique identifiers for each row. They must contain unique values and cannot be null. Due to their importance in relational databases, Primary keys are the most fundamental of all keys and constraints. A table can have only one Primary key. Foreign keys are both a method of ensuring data integrity and a manifestation of the relationship between tables.\\n\\n128. What is User Defined Functions? What kind of User-Defined Functions can be created?\\n\\nUser-Defined Functions allow defining its own T-SQL functions that can accept 0 or more parameters and return a single scalar data value or a table data type. Different Kinds of User-Defined Functions created are:', metadata={'source': 'C:\\\\Users\\\\jfrancis\\\\Downloads\\\\SQL Interview qns.pdf'}),\n",
       " Document(page_content='1. Scalar User-Defined Function A Scalar user-defined function returns one of the scalar data types. Text, image and timestamp data types are not supported. These are the type of user-defined functions that most developers are used to in other programming languages. You pass in 0 to many parameters and you get a return value.\\n\\n2. Inline Table-Value User-Defined Function An Inline Table-Value user-defined\\n\\nfunction returns a table data type and is an exceptional alternative to a view as the user-defined function can pass parameters into a T-SQL select command and in essence provide us with a parameterized, non-updateable view of the underlying tables.\\n\\n3. Multi-statement Table-Value User-Defined Function A Multi-Statement Table-\\n\\nValue user-defined function returns a table and is also an exceptional alternative to a view as the function can support multiple T-SQL statements to build the final\\n\\n29 | P a g e\\n\\nSQL INTERVIEW QUESTIONS AND ANSWERS', metadata={'source': 'C:\\\\Users\\\\jfrancis\\\\Downloads\\\\SQL Interview qns.pdf'}),\n",
       " Document(page_content='result where the view is limited to a single SELECT statement. Also, the ability to pass parameters into a TSQL select command or a group of them gives us the capability to in essence create a parameterized, non-updateable view of the data in the underlying tables. Within the create function command you must define the table structure that is being returned. After creating this type of user-defined function, It can be used in the FROM clause of a T-SQL command unlike the behavior found when using a stored procedure which can also return record sets.\\n\\n129. What is Identity?\\n\\nIdentity (or AutoNumber) is a column that automatically generates numeric values. A start and increment value can be set, but most DBA leave these at 1. A GUID column also generates numbers; the value of this cannot be controlled. Identity/GUID columns do not need to be indexed.\\n\\n130. Which TCP/IP port does SQL Server run on? How can it be changed?', metadata={'source': 'C:\\\\Users\\\\jfrancis\\\\Downloads\\\\SQL Interview qns.pdf'}),\n",
       " Document(page_content='SQL Server runs on port 1433. It can be changed from the Network Utility TCP/IP properties.\\n\\n131. What are the difference between clustered and a non-clustered index?\\n\\n1. A clustered index is a special type of index that reorders the way records in the\\n\\ntable are physically stored. Therefore table can have only one clustered index. The leaf nodes of a clustered index contain the data pages.\\n\\n2. A non clustered index is a special type of index in which the logical order of the\\n\\nindex does not match the physical stored order of the rows on disk. The leaf node of a non clustered index does not consist of the data pages. Instead, the leaf nodes contain index rows.\\n\\n132. What are the different index configurations a table can have?\\n\\nA table can have one of the following index configurations:\\n\\n1. No indexes 2. A clustered index 3. A clustered index and many nonclustered indexes 4. A non clustered index 5. Many non clustered indexes\\n\\n134. What are different types of Collation Sensitivity?', metadata={'source': 'C:\\\\Users\\\\jfrancis\\\\Downloads\\\\SQL Interview qns.pdf'}),\n",
       " Document(page_content=\"1. Case sensitivity - A and a, B and b, etc. 2. Accent sensitivity 3. Kana Sensitivity - When Japanese kana characters Hiragana and Katakana are\\n\\ntreated differently, it is called Kana sensitive.\\n\\n30 | P a g e\\n\\nSQL INTERVIEW QUESTIONS AND ANSWERS\\n\\n4. Width sensitivity - A single-byte character (half-width) and the same character\\n\\nrepresented as a double-byte character (full-width) are treated differently than it is width sensitive.\\n\\n135. What is OLTP (Online Transaction Processing)?\\n\\nIn OLTP - online transaction processing systems relational database design use the discipline of data modeling and generally follow the Codd rules of data normalization in order to ensure absolute data integrity. Using these rules complex information is broken down into its most simple structures (a table) where all of the individual atomic level elements relate to each other and satisfy the normalization rules.\\n\\n136. What's the difference between a primary key and a unique key?\", metadata={'source': 'C:\\\\Users\\\\jfrancis\\\\Downloads\\\\SQL Interview qns.pdf'}),\n",
       " Document(page_content=\"Both primary key and unique key enforces uniqueness of the column on which they are defined. But by default primary key creates a clustered index on the column, where are unique creates a non clustered index by default. Another major difference is that, primary key doesn't allow NULLs, but unique key allows one NULL only.\\n\\n137. What is difference between DELETE and TRUNCATE commands?\\n\\nDelete command removes the rows from a table based on the condition that we provide with a WHERE clause. Truncate will actually remove all the rows from a table and there will be no data in the table after we run the truncate command.\\n\\n1. TRUNCATE:\\n\\n1. TRUNCATE is faster and uses fewer system and transaction log resources\\n\\nthan DELETE.\\n\\n2. TRUNCATE removes the data by deallocating the data pages used to store the table's data, and only the page deallocations are recorded in the transaction log.\\n\\n3. TRUNCATE removes all rows from a table, but the table structure, its\", metadata={'source': 'C:\\\\Users\\\\jfrancis\\\\Downloads\\\\SQL Interview qns.pdf'}),\n",
       " Document(page_content='columns, constraints, indexes and so on, remains. The counter used by an identity for new rows is reset to the seed for the column.\\n\\n4. You cannot use TRUNCATE TABLE on a table referenced by a FOREIGN KEY constraint. Because TRUNCATE TABLE is not logged, it cannot activate a trigger.\\n\\n5. TRUNCATE cannot be rolled back. 6. TRUNCATE is DDL Command. 7. TRUNCATE Resets identity of the table\\n\\n2. DELETE:\\n\\n1. DELETE removes rows one at a time and records an entry in the transaction\\n\\nlog for each deleted row.\\n\\n2. If you want to retain the identity counter, use DELETE instead. If you want to\\n\\nremove table definition and its data, use the DROP TABLE statement.\\n\\n3. DELETE Can be used with or without a WHERE clause\\n\\n31 | P a g e\\n\\nSQL INTERVIEW QUESTIONS AND ANSWERS\\n\\n4. DELETE Activates Triggers. 5. DELETE can be rolled back. 6. DELETE is DML Command. 7. DELETE does not reset identity of the table.', metadata={'source': 'C:\\\\Users\\\\jfrancis\\\\Downloads\\\\SQL Interview qns.pdf'}),\n",
       " Document(page_content='Note: DELETE and TRUNCATE both can be rolled back when surrounded by TRANSACTION if the current session is not closed. If TRUNCATE is written in Query Editor surrounded by TRANSACTION and if session is closed, it can not be rolled back but DELETE can be rolled back.\\n\\n138. When is the use of UPDATE_STATISTICS command?\\n\\nThis command is basically used when a large processing of data has occurred. If a large amount of deletions any modification or Bulk Copy into the tables has occurred, it has to update the indexes to take these changes into account. UPDATE_STATISTICS updates the indexes on these tables accordingly.\\n\\n139. What is the difference between a HAVING CLAUSE and a WHERE CLAUSE?', metadata={'source': 'C:\\\\Users\\\\jfrancis\\\\Downloads\\\\SQL Interview qns.pdf'}),\n",
       " Document(page_content='They specify a search condition for a group or an aggregate. But the difference is that HAVING can be used only with the SELECT statement. HAVING is typically used in a GROUP BY clause. When GROUP BY is not used, HAVING behaves like a WHERE clause. Having Clause is basically used only with the GROUP BY function in a query whereas WHERE Clause is applied to each row before they are part of the GROUP BY function in a query.\\n\\n140. What are the properties and different Types of Sub-Queries?\\n\\n1. Properties of Sub-Query\\n\\n1. A sub-query must be enclosed in the parenthesis. 2. A sub-query must be put in the right hand of the comparison operator, and 3. A sub-query cannot contain an ORDER-BY clause. 4. A query can contain more than one sub-query.\\n\\n2. Types of Sub-Query\\n\\n1. Single-row sub-query, where the sub-query returns only one row. 2. Multiple-row sub-query, where the sub-query returns multiple rows,. and 3. Multiple column sub-query, where the sub-query returns multiple columns', metadata={'source': 'C:\\\\Users\\\\jfrancis\\\\Downloads\\\\SQL Interview qns.pdf'}),\n",
       " Document(page_content='141. What is SQL Profiler?\\n\\nSQL Profiler is a graphical tool that allows system administrators to monitor events in an instance of Microsoft SQL Server. You can capture and save data about each event to a file or SQL Server table to analyze later. For example, you can monitor a production environment to see which stored procedures are hampering performances by executing too slowly.\\n\\n32 | P a g e\\n\\nSQL INTERVIEW QUESTIONS AND ANSWERS\\n\\nUse SQL Profiler to monitor only the events in which you are interested. If traces are becoming too large, you can filter them based on the information you want, so that only a subset of the event data is collected. Monitoring too many events adds overhead to the server and the monitoring process and can cause the trace file or trace table to grow very large, especially when the monitoring process takes place over a long period of time.\\n\\n142. What are the authentication modes in SQL Server? How can it be changed?', metadata={'source': 'C:\\\\Users\\\\jfrancis\\\\Downloads\\\\SQL Interview qns.pdf'}),\n",
       " Document(page_content=\"Windows mode and Mixed Mode - SQL and Windows. To change authentication mode in SQL Server click Start, Programs, Microsoft SQL Server and click SQL Enterprise Manager to run SQL Enterprise Manager from the Microsoft SQL Server program group. Select the server then from the Tools menu select SQL Server Configuration Properties, and choose the Security page.\\n\\n143. Which command using Query Analyzer will give you the version of SQL server and operating system?\\n\\nSELECT SERVERPROPERTY ('productversion'), SERVERPROPERTY ('productlevel'), SERVERPROPERTY ('edition').\\n\\n144. What is SQL Server Agent?\\n\\nSQL Server agent plays an important role in the day-to-day tasks of a database administrator (DBA). It is often overlooked as one of the main tools for SQL Server management. Its purpose is to ease the implementation of tasks for the DBA, with its full- function scheduling engine, which allows you to schedule your own jobs and scripts.\", metadata={'source': 'C:\\\\Users\\\\jfrancis\\\\Downloads\\\\SQL Interview qns.pdf'}),\n",
       " Document(page_content='145. Can a stored procedure call itself or recursive stored procedure? How much level SP nesting is possible?\\n\\nYes. Because Transact-SQL supports recursion, you can write stored procedures that call themselves. Recursion can be defined as a method of problem solving wherein the solution is arrived at by repetitively applying it to subsets of the problem. A common application of recursive logic is to perform numeric computations that lend themselves to repetitive evaluation by the same processing steps. Stored procedures are nested when one stored procedure calls another or executes managed code by referencing a CLR routine, type, or aggregate. You can nest stored procedures and managed code references up to 32 levels.\\n\\n146. What is Log Shipping?', metadata={'source': 'C:\\\\Users\\\\jfrancis\\\\Downloads\\\\SQL Interview qns.pdf'}),\n",
       " Document(page_content='Log shipping is the process of automating the backup of database and transaction log files on a production SQL server, and then restoring them onto a standby server. Enterprise Editions only supports log shipping. In log shipping the transactional log file from one server is automatically updated into the backup database on the other server. If one server\\n\\n33 | P a g e\\n\\nSQL INTERVIEW QUESTIONS AND ANSWERS\\n\\nfails, the other server will have the same db and can be used this as the Disaster Recovery plan. The key feature of log shipping is that it will automatically backup transaction logs throughout the day and automatically restore them on the standby server at defined interval.\\n\\n147. Name 3 ways to get an accurate count of the number of records in a table?\\n\\nSELECT * FROM table1 SELECT COUNT(*) FROM table1 SELECT rows FROM sysindexes WHERE id = OBJECT_ID(table1) AND indid < 2\\n\\n148. What does it mean to have QUOTED_IDENTIFIER ON? What are the implications of having it OFF?', metadata={'source': 'C:\\\\Users\\\\jfrancis\\\\Downloads\\\\SQL Interview qns.pdf'}),\n",
       " Document(page_content='When SET QUOTED_IDENTIFIER is ON, identifiers can be delimited by double quotation marks, and literals must be delimited by single quotation marks. When SET QUOTED_IDENTIFIER is OFF, identifiers cannot be quoted and must follow all Transact- SQL rules for identifiers.\\n\\n149. What is the difference between a Local and a Global temporary table?\\n\\n1. A local temporary table exists only for the duration of a connection or, if defined inside a compound statement, for the duration of the compound statement.\\n\\n2. A global temporary table remains in the database permanently, but the rows exist only within a given connection. When connection is closed, the data in the global temporary table disappears. However, the table definition remains with the database for access when database is opened next time.\\n\\n150. What is the STUFF function and how does it differ from the REPLACE function?', metadata={'source': 'C:\\\\Users\\\\jfrancis\\\\Downloads\\\\SQL Interview qns.pdf'}),\n",
       " Document(page_content='STUFF function is used to overwrite existing characters. Using this syntax, STUFF (string_expression, start, length, replacement_characters), string_expression is the string that will have characters substituted, start is the starting position, length is the number of characters in the string that are substituted, and replacement_characters are the new characters interjected into the string. REPLACE function to replace existing characters of all occurrences. Using the syntax REPLACE (string_expression, search_string, replacement_string), where every incidence of search_string found in the string_expression will be replaced with replacement_string.\\n\\n34 | P a g e\\n\\nSQL INTERVIEW QUESTIONS AND ANSWERS\\n\\n151. What is PRIMARY KEY?', metadata={'source': 'C:\\\\Users\\\\jfrancis\\\\Downloads\\\\SQL Interview qns.pdf'}),\n",
       " Document(page_content='A PRIMARY KEY constraint is a unique identifier for a row within a database table. Every table should have a primary key constraint to uniquely identify each row and only one primary key constraint can be created for each table. The primary key constraints are used to enforce entity integrity.\\n\\n152. What is UNIQUE KEY constraint?\\n\\nA UNIQUE constraint enforces the uniqueness of the values in a set of columns, so no duplicate values are entered. The unique key constraints are used to enforce entity integrity as the primary key constraints.\\n\\n153. What is FOREIGN KEY?\\n\\nA FOREIGN KEY constraint prevents any actions that would destroy links between tables with the corresponding data values. A foreign key in one table points to a primary key in another table. Foreign keys prevent actions that would leave rows with foreign key values when there are no primary keys with that value. The foreign key constraints are used to enforce referential integrity.\\n\\n154. What is CHECK Constraint?', metadata={'source': 'C:\\\\Users\\\\jfrancis\\\\Downloads\\\\SQL Interview qns.pdf'}),\n",
       " Document(page_content='A CHECK constraint is used to limit the values that can be placed in a column. The check constraints are used to enforce domain integrity.\\n\\n155. What is NOT NULL Constraint?\\n\\nA NOT NULL constraint enforces that the column will not accept null values. The not null constraints are used to enforce domain integrity, as the check constraints.\\n\\n156. How to get @@ERROR and @@ROWCOUNT at the same time?\\n\\nIf @@Rowcount is checked after Error checking statement then it will have 0 as the value of @@Recordcount as it would have been reset. And if @@Recordcount is checked before the error-checking statement then @@Error would get reset. To get @@error and @@rowcount at the same time do both in same statement and store them in local variable.\\n\\nSELECT @RC = @@ROWCOUNT, @ER = @@ERROR\\n\\n157. What is a Scheduled Jobs or What is a Scheduled Tasks?', metadata={'source': 'C:\\\\Users\\\\jfrancis\\\\Downloads\\\\SQL Interview qns.pdf'}),\n",
       " Document(page_content=\"Scheduled tasks let user automate processes that run on regular or predictable cycles. User can schedule administrative tasks, such as cube processing, to run during times of slow business activity. User can also determine the order in which tasks run by creating job steps within a SQL Server Agent job. E.g. back up database, Update Stats of Tables. Job steps\\n\\n35 | P a g e\\n\\nSQL INTERVIEW QUESTIONS AND ANSWERS\\n\\ngive user control over flow of execution. If one job fails, user can configure SQL Server Agent to continue to run the remaining tasks or to stop execution.\\n\\n158. What are the advantages of using Stored Procedures?\\n\\n1. Stored procedure can reduced network traffic and latency, boosting application\\n\\nperformance.\\n\\n2. Stored procedure execution plans can be reused, staying cached in SQL Server's\\n\\nmemory, reducing server overhead.\\n\\n3. Stored procedures help promote code reuse. 4. Stored procedures can encapsulate logic. You can change stored procedure code\", metadata={'source': 'C:\\\\Users\\\\jfrancis\\\\Downloads\\\\SQL Interview qns.pdf'}),\n",
       " Document(page_content='without affecting clients.\\n\\n5. Stored procedures provide better security to your data.\\n\\n159. What is a table called, if it has neither Cluster nor Non-cluster Index? What is it used for?\\n\\nUnindexed table or Heap. Microsoft Press Books and Book on Line (BOL) refers it as Heap. A heap is a table that does not have a clustered index and, therefore, the pages are not linked by pointers. The IAM pages are the only structures that link the pages in a table together. Unindexed tables are good for fast storing of data. Many times it is better to drop all indexes from table and then do bulk of inserts and to restore those indexes after that.\\n\\n160. Can SQL Servers linked to other servers like Oracle?\\n\\nSQL Server can be linked to any server provided it has OLE-DB provider from Microsoft to allow a link. E.g. Oracle has an OLE-DB provider for oracle that Microsoft provides to add it as linked server to SQL Server group.', metadata={'source': 'C:\\\\Users\\\\jfrancis\\\\Downloads\\\\SQL Interview qns.pdf'}),\n",
       " Document(page_content='161. How to implement one-to-one, one-to-many and many-to-many relationships while designing tables?\\n\\nOne-to-One relationship can be implemented as a single table and rarely as two tables with primary and foreign key relationships. One-to-Many relationships are implemented by splitting the data into two tables with primary key and foreign key relationships. Many- to-Many relationships are implemented using a junction table with the keys from both the tables forming the composite primary key of the junction table.\\n\\n162. What are the basic functions for master, msdb, model, tempdb and resource databases?\\n\\n1. The master database holds information for all databases located on the SQL Server instance and is theglue that holds the engine together. Because SQL Server cannot start without a functioning masterdatabase, you must administer this database with care.\\n\\n36 | P a g e\\n\\nSQL INTERVIEW QUESTIONS AND ANSWERS\\n\\n2. The msdb database stores information regarding database backups, SQL Agent', metadata={'source': 'C:\\\\Users\\\\jfrancis\\\\Downloads\\\\SQL Interview qns.pdf'}),\n",
       " Document(page_content='information, DTS packages, SQL Server jobs, and some replication information such as for log shipping.\\n\\n3. The tempdb holds temporary objects such as global and local temporary tables and\\n\\nstored procedures.\\n\\n4. The model is essentially a template database used in the creation of any new user\\n\\ndatabase created in the instance.\\n\\n5. The resoure Database is a read-only database that contains all the system objects that are included with SQL Server. SQL Server system objects, such as sys.objects, are physically persisted in the Resource database, but they logically appear in the sys schema of every database. The Resource database does not contain user data or user metadata.\\n\\n163. What is Service Broker?', metadata={'source': 'C:\\\\Users\\\\jfrancis\\\\Downloads\\\\SQL Interview qns.pdf'}),\n",
       " Document(page_content='Service Broker is a message-queuing technology in SQL Server that allows developers to integrate SQL Server fully into distributed applications. Service Broker is feature which provides facility to SQL Server to send an asynchronous, transactional message. it allows a database to send a message to another database without waiting for the response, so the application will continue to function if the remote database is temporarily unavailable.\\n\\n164. Where SQL server user names and passwords are stored in SQL server?\\n\\nThey get stored in System Catalog Views sys.server_principals and sys.sql_logins.\\n\\n165. What is Policy Management?', metadata={'source': 'C:\\\\Users\\\\jfrancis\\\\Downloads\\\\SQL Interview qns.pdf'}),\n",
       " Document(page_content='Policy Management in SQL SERVER 2008 allows you to define and enforce policies for configuring and managing SQL Server across the enterprise. Policy-Based Management is configured in SQL Server Management Studio (SSMS). Navigate to the Object Explorer and expand the Management node and the Policy Management node; you will see the Policies, Conditions, and Facets nodes.\\n\\n166. What is Replication and Database Mirroring?', metadata={'source': 'C:\\\\Users\\\\jfrancis\\\\Downloads\\\\SQL Interview qns.pdf'}),\n",
       " Document(page_content='Database mirroring can be used with replication to provide availability for the publication database. Database mirroring involves two copies of a single database that typically reside on different computers. At any given time, only one copy of the database is currently available to clients which are known as the principal database. Updates made by clients to the principal database are applied on the other copy of the database, known as the mirror database. Mirroring involves applying the transaction log from every insertion, update, or deletion made on the principal database onto the mirror database.\\n\\n37 | P a g e\\n\\nSQL INTERVIEW QUESTIONS AND ANSWERS\\n\\n167. What are Sparse Columns?\\n\\nA sparse column is another tool used to reduce the amount of physical storage used in a database. They are the ordinary columns that have an optimized storage for null values. Sparse columns reduce the space requirements for null values at the cost of more overhead to retrieve nonnull values.', metadata={'source': 'C:\\\\Users\\\\jfrancis\\\\Downloads\\\\SQL Interview qns.pdf'}),\n",
       " Document(page_content='168. What does TOP Operator Do?\\n\\nThe TOP operator is used to specify the number of rows to be returned by a query. The TOP operator has new addition in SQL SERVER 2008 that it accepts variables as well as literal values and can be used with INSERT, UPDATE, and DELETES statements.\\n\\n169. What is CTE?\\n\\nCTE is an abbreviation Common Table Expression. A Common Table Expression (CTE) is an expression that can be thought of as a temporary result set which is defined within the execution of a single SQL statement. A CTE is similar to a derived table in that it is not stored as an object and lasts only for the duration of the query.\\n\\n170. What is MERGE Statement?', metadata={'source': 'C:\\\\Users\\\\jfrancis\\\\Downloads\\\\SQL Interview qns.pdf'}),\n",
       " Document(page_content='MERGE is a new feature that provides an efficient way to perform multiple DML operations. In previous versions of SQL Server, we had to write separate statements to INSERT, UPDATE, or DELETE data based on certain conditions, but now, using MERGE statement we can include the logic of such data modifications in one statement that even checks when the data is matched then just update it and when unmatched then insert it. One of the most important advantages of MERGE statement is all the data is read and processed only once.\\n\\n171. What is Filtered Index?\\n\\nFiltered Index is used to index a portion of rows in a table that means it applies filter on INDEX which improves query performance, reduce index maintenance costs, and reduce index storage costs compared with full-table indexes. When we see an Index created with some where clause then that is actually a FILTERED INDEX.\\n\\n172. Which are new data types introduced in SQL SERVER 2008?', metadata={'source': 'C:\\\\Users\\\\jfrancis\\\\Downloads\\\\SQL Interview qns.pdf'}),\n",
       " Document(page_content='1. The GEOMETRY Type: The GEOMETRY data type is a system .NET common\\n\\nlanguage runtime (CLR) data type in SQL Server. This type represents data in a two- dimensional Euclidean coordinate system.\\n\\n2. The GEOGRAPHY Type: The GEOGRAPHY datatype’s functions are the same as with GEOMETRY. The difference between the two is that when you specify GEOGRAPHY, you are usually specifying points in terms of latitude and longitude.\\n\\n38 | P a g e\\n\\nSQL INTERVIEW QUESTIONS AND ANSWERS\\n\\n3. New Date and Time Datatypes: SQL Server 2008 introduces four new datatypes related to date and time: DATE, TIME, DATETIMEOFFSET, and DATETIME2. 1. DATE: The new DATE type just stores the date itself. It is based on the\\n\\nGregorian calendar and handles years from 1 to 9999.', metadata={'source': 'C:\\\\Users\\\\jfrancis\\\\Downloads\\\\SQL Interview qns.pdf'}),\n",
       " Document(page_content='2. TIME: The new TIME (n) type stores time with a range of 00:00:00.0000000 through 23:59:59.9999999. The precision is allowed with this type. TIME supports seconds down to 100 nanoseconds. The n in TIME (n) defines this level of fractional second precision, from 0 to 7 digits of precision. 3. The DATETIMEOFFSET Type: DATETIMEOFFSET (n) is the time-zone-\\n\\naware version of a datetime datatype. The name will appear less odd when you consider what it really is: a date + a time + a time-zone offset. The offset is based on how far behind or ahead you are from Coordinated Universal Time (UTC) time.\\n\\n4. The DATETIME2 Type: It is an extension of the datetime type in earlier', metadata={'source': 'C:\\\\Users\\\\jfrancis\\\\Downloads\\\\SQL Interview qns.pdf'}),\n",
       " Document(page_content='versions of SQL Server. This new datatype has a date range covering dates from January 1 of year 1 through December 31 of year 9999. This is a definite improvement over the 1753 lower boundary of the datetime datatype. DATETIME2 not only includes the larger date range, but also has a timestamp and the same fractional precision that TIME type provides\\n\\n173. What are the Advantages of using CTE?\\n\\n1. Using CTE improves the readability and makes maintenance of complex queries\\n\\neasy.\\n\\n2. The query can be divided into separate, simple, logical building blocks which can be\\n\\nthen used to build more complex CTEs until final result set is generated. 3. CTE can be defined in functions, stored procedures, triggers or even views. 4. After a CTE is defined, it can be used as a Table or a View and can SELECT, INSERT,\\n\\nUPDATE or DELETE Data.\\n\\n174. How would you handle error in SQL SERVER 2008?', metadata={'source': 'C:\\\\Users\\\\jfrancis\\\\Downloads\\\\SQL Interview qns.pdf'}),\n",
       " Document(page_content='SQL Server now supports the use of TRY...CATCH con handling. TRY...CATCH lets us build error handling at the level we need, in the way w to, by setting a region where if any error occurs, it will break out of the region and head to an error handler.\\n\\nThe basic structure is as follows: BEGIN TRY stmts.. END TRY BEGIN CATCH stmts.. END CATCH\\n\\n39 | P a g e\\n\\nSQL INTERVIEW QUESTIONS AND ANSWERS\\n\\n175. What is Aggregate Functions?\\n\\nAggregate functions perform a calculation on a set of values and return a single value. Aggregate functions ignore NULL values except COUNT function. HAVING clause is used, along with GROUP BY, for filtering query using aggregate values.\\n\\nFollowing functions are aggregate functions. AVG, MIN CHECKSUM_AGG, SUM, COUNT, STDEV, COUNT_BIG, STDEVP, GROUPING, VAR, MAX. VARP\\n\\n176. What do you mean by Table Sample?', metadata={'source': 'C:\\\\Users\\\\jfrancis\\\\Downloads\\\\SQL Interview qns.pdf'}),\n",
       " Document(page_content='TABLESAMPLE allows you to extract a sampling of rows from a table in the FROM clause. The rows retrieved are random and they are not in any order. This sampling can be based on a percentage of number of rows. You can use TABLESAMPLE when only a sampling of rows is necessary for the application instead of a full result set.\\n\\n177. What is the difference between UNION and UNION ALL?\\n\\n1. UNION The UNION command is used to select related information from two tables,\\n\\nmuch like the JOIN command. However, when using the UNION command all selected columns need to be of the same data type. With UNION, only distinct values are selected.\\n\\n2. UNION ALL The UNION ALL command is equal to the UNION command, except that\\n\\nUNION ALL selects all values.\\n\\nThe difference between Union and Union all is that Union all will not eliminate duplicate rows, instead it just pulls all rows from all tables fitting your query specifics and combines them into a table.\\n\\n178. What is B-Tree?', metadata={'source': 'C:\\\\Users\\\\jfrancis\\\\Downloads\\\\SQL Interview qns.pdf'}),\n",
       " Document(page_content='The database server uses a B-tree structure to organize index information. B-Tree generally has following types of index pages or nodes:\\n\\n1. root node: A root node contains node pointers to branch nodes which can be only\\n\\none.\\n\\n2. branch node: A branch node contains pointers to leaf nodes or other branch nodes\\n\\nwhich can be two or more.\\n\\n3. leaf nodes: A leaf node contains index items and orizantal pointers to other leaf\\n\\nnodes which can be many.\\n\\n40 | P a g e\\n\\nSQL INTERVIEW QUESTIONS AND ANSWERS\\n\\n179. What is a foreign key, and what is it used for?', metadata={'source': 'C:\\\\Users\\\\jfrancis\\\\Downloads\\\\SQL Interview qns.pdf'}),\n",
       " Document(page_content='A foreign key is used to establish relationships among relations in the relational model. Technically, a foreign key is a column (or columns) appearing in one relation that is (are) the primary key of another table. Although there may be exceptions, the values in the foreign key columns usually must correspond to values existing in the set of primary key values. This correspondence requirement is created in a database using a referential integrity constraint on the foreign key.\\n\\n180. What does it mean when we say that a relation is in Boyce-Codd Normal Form (BCNF)?', metadata={'source': 'C:\\\\Users\\\\jfrancis\\\\Downloads\\\\SQL Interview qns.pdf'}),\n",
       " Document(page_content='A relation is in BCNF when every determinant in the relation is a candidate key. This means that any possible primary key can determine all other attributes in the relation. Attributes may not be determined by non-candidate key attributes or part of a composite candidate key. Thus it is said \"I swear to construct my tables so that all nonkey columns are dependent on the key, the whole key and nothing but the key, so help me Codd!\"\\n\\n181. You have been given a set of tables with data and asked to create a new database to store them. When you examine the data values in the tables, what are you looking for?\\n\\n(1) Multivalued dependencies, (2) Functional dependencies, (3) Candidate keys, (4) Primary keys and (5) Foreign keys.\\n\\n182. Explain the difference between attributes and identifiers.\\n\\nEntities have attributes. Attributes are properties that describe the entity\\'s characteristics. Entity instances have identifiers. Identifiers are attributes that name, or identify, entity instances.', metadata={'source': 'C:\\\\Users\\\\jfrancis\\\\Downloads\\\\SQL Interview qns.pdf'}),\n",
       " Document(page_content='183. Name and describe three types of binary relationships.\\n\\n1:1 - a single entity instance of one type is related to a single-entity instance of another type.\\n\\n1:N - a single entity instance of one type is related to many-entity instances of another type.\\n\\nM:N - many-entity instances of one type relate to many-entity instances of another type.\\n\\n184. What are stored procedures, and how do they differ from triggers?\\n\\nA stored procedure is a program that is stored within the database and is compiled when used. They can receive input parameters and they can return results. Unlike triggers, their scope is database-wide; they can be used by any process that has permission to use the database stored procedure.\\n\\n41 | P a g e\\n\\nSQL INTERVIEW QUESTIONS AND ANSWERS\\n\\n185. What are the advantages of using stored procedures?', metadata={'source': 'C:\\\\Users\\\\jfrancis\\\\Downloads\\\\SQL Interview qns.pdf'}),\n",
       " Document(page_content='The advantages of stored procedures are (1) greater security, (2) decreased network traffic, (3) the fact that SQL can be optimized and (4) code sharing which leads to less work, standardized processing, and specialization among developers.\\n\\n186. What is the relationship of ODBC, OLE DB, and ADO?\\n\\nDeveloped first, the ODBC standard is for relational databases; while the OLE DB standard provides functionality for both relational and other databases. Finally, ADO was developed to provide easier access to OLE DB data for the non-object-oriented programmer.\\n\\n187. Explain the differences between structured data and unstructured data.', metadata={'source': 'C:\\\\Users\\\\jfrancis\\\\Downloads\\\\SQL Interview qns.pdf'}),\n",
       " Document(page_content=\"Structured data are facts concerning objects and events. The most important structured data are numeric, character, and dates. Structured data are stored in tabular form. Unstructured data are multimedia data such as documents, photographs, maps, images, sound, and video clips. Unstructured data are most commonly found on Web servers and Web-enabled databases.\\n\\n188.What are dimension tables and definition of Fact tables?\\n\\nThese two questions are most commonly asked database interview questions. Fact tables are mainly central tables that are an integral part of data warehousing and dimension tables are used for describing the attributes of the fact tables. Both of these tables are important and play an important role in maintaining the database management system.\\n\\n189.What is Data Warehouse?\\n\\nA data warehouse is a subject-oriented, integrated, time-variant and non-volatile collection of data in support of management's decision making process.\", metadata={'source': 'C:\\\\Users\\\\jfrancis\\\\Downloads\\\\SQL Interview qns.pdf'}),\n",
       " Document(page_content='Subject-Oriented: A data warehouse can be used to analyze a particular subject area. For example, \"sales\" can be a particular subject.\\n\\nIntegrated: A data warehouse integrates data from multiple data sources. For example, source A and source B may have different ways of identifying a product, but in a data warehouse, there will be only a single way of identifying a product.\\n\\nTime-Variant: Historical data is kept in a data warehouse. For example, one can retrieve data from 3 months, 6 months, 12 months, or even older data from a data warehouse. This contrasts with a transactions system, where often only the most recent data is kept. For example, a transaction system may hold the most recent address of a customer, where a data warehouse can hold all addresses associated with a customer.\\n\\n42 | P a g e\\n\\nSQL INTERVIEW QUESTIONS AND ANSWERS\\n\\nNon-volatile: Once data is in the data warehouse, it will not change. So, historical data in a data warehouse should never be altered.', metadata={'source': 'C:\\\\Users\\\\jfrancis\\\\Downloads\\\\SQL Interview qns.pdf'}),\n",
       " Document(page_content='190.What is Data Mining?\\n\\nData mining is a term from computer science. Sometimes it is also called knowledge discovery in databases (KDD). Data mining is about finding new information in a lot of data. The information obtained from data mining is hopefully both new and useful.\\n\\nMOST FREQUENTLY ASKED SQL QURIES\\n\\n1.SQL Query to find second highest salary of Employee Answer : There are many ways to find second highest salary of Employee in SQL, you can either use SQL Join or Subquery to solve this problem. Here is SQL query using Subquery :\\n\\n1. select MAX(Salary) from Employee WHERE Salary NOT IN (select MAX(Salary) from\\n\\nEmployee );\\n\\n2. SQL Query to find Max Salary from each department. Answer : SELECT DeptID, MAX(Salary) FROM Employee GROUP BY DeptID.\\n\\n3.Write SQL Query to display current date. Ans:SQL has built in function called GetDate() which returns current timestamp. SELECT GetDate();', metadata={'source': 'C:\\\\Users\\\\jfrancis\\\\Downloads\\\\SQL Interview qns.pdf'}),\n",
       " Document(page_content='4.Write an SQL Query to check whether date passed to Query is date of given format or not. Ans: SQL has IsDate() function which is used to check passed value is date or not of specified format ,it returns 1(true) or 0(false) accordingly. SELECT ISDATE(\\'1/08/13\\') AS \"MM/DD/YY\";\\n\\nIt will return 0 because passed date is not in correct format.\\n\\n5. Write a SQL Query to print the name of distinct employee whose DOB is between 01/01/1960 to 31/12/1975. Ans: SELECT DISTINCT EmpName FROM Employees WHERE DOB BETWEEN ‘01/01/1960’ AND ‘31/12/1975’;\\n\\n43 | P a g e\\n\\nSQL INTERVIEW QUESTIONS AND ANSWERS\\n\\n6.Write an SQL Query find number of employees according to gender whose DOB is between 01/01/1960 to 31/12/1975. Answer : SELECT COUNT(*), sex from Employees WHERE DOB BETWEEN ‘01/01/1960 \\' AND ‘31/12/1975’ GROUP BY sex;\\n\\n7.Write an SQL Query to find employee whose Salary is equal or greater than 10000. Answer : SELECT EmpName FROM Employees WHERE Salary>=10000;', metadata={'source': 'C:\\\\Users\\\\jfrancis\\\\Downloads\\\\SQL Interview qns.pdf'}),\n",
       " Document(page_content='8.Write an SQL Query to find name of employee whose name Start with ‘M’ Ans: SELECT * FROM Employees WHERE EmpName like \\'M%\\';\\n\\n9. find all Employee records containing the word \"Joe\", regardless of whether it was stored as JOE, Joe, or joe. Answer : SELECT * from Employees WHERE upper(EmpName) like upper(\\'joe%\\');\\n\\n10. Write a SQL Query to find year from date. Answer : SELECT YEAR(GETDATE()) as \"Year\";\\n\\n11.To fetch ALTERNATE records from a table. (EVEN NUMBERED) select * from emp where rowid in (select decode(mod(rownum,2),0,rowid, null) from emp);\\n\\n12.To select ALTERNATE records from a table. (ODD NUMBERED) select * from emp where rowid in (select decode(mod(rownum,2),0,null ,rowid) from emp);\\n\\n13.Find the 3rd MAX salary in the emp table. select distinct sal from emp e1 where 3 = (select count(distinct sal) from emp e2 where e1.sal <= e2.sal);', metadata={'source': 'C:\\\\Users\\\\jfrancis\\\\Downloads\\\\SQL Interview qns.pdf'}),\n",
       " Document(page_content='14.Find the 3rd MIN salary in the emp table. select distinct sal from emp e1 where 3 = (select count(distinct sal) from emp e2where e1.sal >= e2.sal);\\n\\n15.Select FIRST n records from a table. select * from emp where rownum <= &n;\\n\\n16.Select LAST n records from a table select * from emp minus select * from emp where rownum <= (select count(*) - &n from emp);\\n\\n17.List dept no., Dept name for all the departments in which there are no employees in the department. select * from dept where deptno not in (select deptno from emp); alternate solution: select * from dept a where not exists (select * from emp b where a.deptno = b.deptno);\\n\\n44 | P a g e\\n\\nSQL INTERVIEW QUESTIONS AND ANSWERS\\n\\naltertnate solution: select empno,ename,b.deptno,dname from emp a, dept b where a.deptno(+) = b.deptno and empno is null;\\n\\n18.How to get 3 Max salaries ? select distinct sal from emp a where 3 >= (select count(distinct sal) from emp b where a.sal <= b.sal) order by a.sal desc;', metadata={'source': 'C:\\\\Users\\\\jfrancis\\\\Downloads\\\\SQL Interview qns.pdf'}),\n",
       " Document(page_content='19.How to get 3 Min salaries ? select distinct sal from emp a where 3 >= (select count(distinct sal) from emp b where a.sal >= b.sal);\\n\\n20.How to get nth max salaries ? select distinct hiredate from emp a where &n = (select count(distinct sal) from emp b where a.sal >= b.sal);\\n\\n21.Select DISTINCT RECORDS from emp table. select * from emp a where rowid = (select max(rowid) from emp b where a.empno=b.empno);\\n\\n22.How to delete duplicate rows in a table? delete from emp a where rowid != (select max(rowid) from emp b where a.empno=b.empno);\\n\\n23.Count of number of employees in department wise. select count(EMPNO), b.deptno, dname from emp a, dept b where a.deptno(+)=b.deptno group by b.deptno,dname;\\n\\n24. Suppose there is annual salary information provided by emp table. How to fetch monthly salary of each and every employee?\\n\\nselect ename,sal/12 as monthlysal from emp;\\n\\n25.Select all record from emp table where deptno =10 or 40.\\n\\nselect * from emp where deptno=30 or deptno=10;', metadata={'source': 'C:\\\\Users\\\\jfrancis\\\\Downloads\\\\SQL Interview qns.pdf'}),\n",
       " Document(page_content=\"26.Select all record from emp table where deptno=30 and sal>1500.\\n\\nselect * from emp where deptno=30 and sal>1500;\\n\\n27.Select all record from emp where job not in SALESMAN or CLERK.\\n\\nselect * from emp where job not in ('SALESMAN','CLERK');\\n\\n28.Select all record from emp where ename in 'BLAKE','SCOTT','KING'and'FORD'.\\n\\n45 | P a g e\\n\\nSQL INTERVIEW QUESTIONS AND ANSWERS\\n\\nselect * from emp where ename in('JONES','BLAKE','SCOTT','KING','FORD');\\n\\n29.Select all records where ename starts with ‘S’ and its lenth is 6 char.\\n\\nselect * from emp where ename like'S____';\\n\\n30.Select all records where ename may be any no of character but it should end with ‘R’.\\n\\nselect * from emp where ename like'%R';\\n\\n31.Count MGR and their salary in emp table.\\n\\nselect count(MGR),count(sal) from emp;\\n\\n32.In emp table add comm+sal as total sal .\\n\\nselect ename,(sal+nvl(comm,0)) as totalsal from emp;\\n\\n33.Select any salary <3000 from emp table.\\n\\nselect * from emp where sal> any(select sal from emp where sal<3000);\", metadata={'source': 'C:\\\\Users\\\\jfrancis\\\\Downloads\\\\SQL Interview qns.pdf'}),\n",
       " Document(page_content='34.Select all salary <3000 from emp table.\\n\\nselect * from emp where sal> all(select sal from emp where sal<3000);\\n\\n35.Select all the employee group by deptno and sal in descending order.\\n\\nselect ename,deptno,sal from emp order by deptno,sal desc;\\n\\n36.How can I create an empty table emp1 with same structure as emp?\\n\\nCreate table emp1 as select * from emp where 1=2;\\n\\n37.How to retrive record where sal between 1000 to 2000? Select * from emp where sal>=1000 And sal<2000\\n\\n38.Select all records where dept no of both emp and dept table matches. select * from emp where exists(select * from dept where emp.deptno=dept.deptno)\\n\\n39.If there are two tables emp1 and emp2, and both have common record. How can I fetch all the recods but common records only once? (Select * from emp) Union (Select * from emp1)\\n\\n46 | P a g e\\n\\nSQL INTERVIEW QUESTIONS AND ANSWERS\\n\\n40.How to fetch only common records from two tables emp and emp1? (Select * from emp) Intersect (Select * from emp1)', metadata={'source': 'C:\\\\Users\\\\jfrancis\\\\Downloads\\\\SQL Interview qns.pdf'}),\n",
       " Document(page_content='41. How can I retrive all records of emp1 those should not present in emp2? (Select * from emp) Minus (Select * from emp1)\\n\\n42.Count the totalsa deptno wise where more than 2 employees exist. SELECT deptno, sum(sal) As totalsal FROM emp GROUP BY deptno HAVING COUNT(empno) > 2\\n\\n43.Display the names of employees who are working in the company for the past 5 years. select ename from emp where sysdate-hiredate>5*365;\\n\\n44.Display the list of employees who have joined the company before 30th June 90 or after 31st dec 90. select * from emp where hiredate between ‘30-jun-1990’ and ‘31-dec-1990’;\\n\\n45.Display the names of employees working in department number 10 or 20 or 40 or employees working as clerks, salesman or analyst. select ename from emp where deptno in (10,20,40) or job in (‘CLERK’,’SALESMAN’,’ANALYST’);\\n\\n46.Display the names of employees whose name starts with alphabet S. select ename from emp where ename like ‘S%’;', metadata={'source': 'C:\\\\Users\\\\jfrancis\\\\Downloads\\\\SQL Interview qns.pdf'}),\n",
       " Document(page_content='47.Display employee names for employees whose name ends with alphabet. select ename from emp where ename like ‘%S’;\\n\\n47 | P a g e', metadata={'source': 'C:\\\\Users\\\\jfrancis\\\\Downloads\\\\SQL Interview qns.pdf'})]"
      ]
     },
     "execution_count": 13,
     "metadata": {},
     "output_type": "execute_result"
    }
   ],
   "source": [
    "data_source=r'C:\\Users\\jfrancis\\Downloads\\SQL Interview qns.pdf'\n",
    "loader = UnstructuredPDFLoader(data_source)\n",
    "# Chunk size is a major trade-off parameter to control result accuracy over computaion\n",
    "CHUNK_SIZE = 1000\n",
    "text_splitter = RecursiveCharacterTextSplitter(chunk_size=CHUNK_SIZE, chunk_overlap=0)\n",
    "docs = loader.load_and_split(text_splitter)\n",
    "docs"
   ]
  },
  {
   "cell_type": "markdown",
   "id": "df7acb21",
   "metadata": {},
   "source": [
    "Now use a open source hugging face embedding as the openAI one could be costly (due to the volume of data)"
   ]
  },
  {
   "cell_type": "code",
   "execution_count": 14,
   "id": "2636e522",
   "metadata": {},
   "outputs": [],
   "source": [
    "model_name = \"sentence-transformers/all-mpnet-base-v2\"\n",
    "model_kwargs = {'device': 'cpu'}\n",
    "embeddings = HuggingFaceEmbeddings(model_name=model_name, model_kwargs=model_kwargs)"
   ]
  },
  {
   "cell_type": "markdown",
   "id": "3b03d77c",
   "metadata": {},
   "source": [
    "Load it to active loop vector store"
   ]
  },
  {
   "cell_type": "code",
   "execution_count": 15,
   "id": "4b59ca4e",
   "metadata": {},
   "outputs": [
    {
     "name": "stdout",
     "output_type": "stream",
     "text": [
      "Your Deep Lake dataset has been successfully created!\n"
     ]
    },
    {
     "name": "stderr",
     "output_type": "stream",
     "text": [
      "Creating 117 embeddings in 1 batches of size 117:: 100%|████████████████████████████████| 1/1 [01:42<00:00, 102.36s/it]"
     ]
    },
    {
     "name": "stdout",
     "output_type": "stream",
     "text": [
      "Dataset(path='hub://jfrancis/sql_interview', tensors=['text', 'metadata', 'embedding', 'id'])\n",
      "\n",
      "  tensor      htype      shape      dtype  compression\n",
      "  -------    -------    -------    -------  ------- \n",
      "   text       text      (117, 1)     str     None   \n",
      " metadata     json      (117, 1)     str     None   \n",
      " embedding  embedding  (117, 768)  float32   None   \n",
      "    id        text      (117, 1)     str     None   \n"
     ]
    },
    {
     "name": "stderr",
     "output_type": "stream",
     "text": [
      "\n"
     ]
    },
    {
     "data": {
      "text/plain": [
       "['85a38147-8b50-11ee-b60b-401c83da435e',\n",
       " '85a38148-8b50-11ee-98a7-401c83da435e',\n",
       " '85a38149-8b50-11ee-b082-401c83da435e',\n",
       " '85a3814a-8b50-11ee-b8f9-401c83da435e',\n",
       " '85a3814b-8b50-11ee-9aea-401c83da435e',\n",
       " '85a3814c-8b50-11ee-8297-401c83da435e',\n",
       " '85a3814d-8b50-11ee-9092-401c83da435e',\n",
       " '85a3814e-8b50-11ee-bdca-401c83da435e',\n",
       " '85a3814f-8b50-11ee-a0b8-401c83da435e',\n",
       " '85a38150-8b50-11ee-9f19-401c83da435e',\n",
       " '85a38151-8b50-11ee-99ea-401c83da435e',\n",
       " '85a38152-8b50-11ee-bac4-401c83da435e',\n",
       " '85a38153-8b50-11ee-b229-401c83da435e',\n",
       " '85a38154-8b50-11ee-b51c-401c83da435e',\n",
       " '85a38155-8b50-11ee-9369-401c83da435e',\n",
       " '85a38156-8b50-11ee-bdf0-401c83da435e',\n",
       " '85a38157-8b50-11ee-9e80-401c83da435e',\n",
       " '85a38158-8b50-11ee-96ea-401c83da435e',\n",
       " '85a38159-8b50-11ee-a556-401c83da435e',\n",
       " '85a3815a-8b50-11ee-b910-401c83da435e',\n",
       " '85a3815b-8b50-11ee-ba1e-401c83da435e',\n",
       " '85a3815c-8b50-11ee-8dfa-401c83da435e',\n",
       " '85a3815d-8b50-11ee-a04c-401c83da435e',\n",
       " '85a3815e-8b50-11ee-88e9-401c83da435e',\n",
       " '85a3815f-8b50-11ee-9209-401c83da435e',\n",
       " '85a38160-8b50-11ee-88f1-401c83da435e',\n",
       " '85a38161-8b50-11ee-b05f-401c83da435e',\n",
       " '85a38162-8b50-11ee-8611-401c83da435e',\n",
       " '85a3a84e-8b50-11ee-a793-401c83da435e',\n",
       " '85a3a84f-8b50-11ee-b329-401c83da435e',\n",
       " '85a3a850-8b50-11ee-9008-401c83da435e',\n",
       " '85a3a851-8b50-11ee-bf2f-401c83da435e',\n",
       " '85a3a852-8b50-11ee-ba39-401c83da435e',\n",
       " '85a3a853-8b50-11ee-a215-401c83da435e',\n",
       " '85a3a854-8b50-11ee-bee5-401c83da435e',\n",
       " '85a3a855-8b50-11ee-ad21-401c83da435e',\n",
       " '85a3a856-8b50-11ee-b3da-401c83da435e',\n",
       " '85a3a857-8b50-11ee-a685-401c83da435e',\n",
       " '85a3a858-8b50-11ee-b9bd-401c83da435e',\n",
       " '85a3a859-8b50-11ee-8967-401c83da435e',\n",
       " '85a3a85a-8b50-11ee-93d9-401c83da435e',\n",
       " '85a3a85b-8b50-11ee-8652-401c83da435e',\n",
       " '85a3a85c-8b50-11ee-aeb5-401c83da435e',\n",
       " '85a3a85d-8b50-11ee-84b8-401c83da435e',\n",
       " '85a3a85e-8b50-11ee-b986-401c83da435e',\n",
       " '85a3a85f-8b50-11ee-b66e-401c83da435e',\n",
       " '85a3a860-8b50-11ee-abc6-401c83da435e',\n",
       " '85a3a861-8b50-11ee-9521-401c83da435e',\n",
       " '85a3a862-8b50-11ee-9e37-401c83da435e',\n",
       " '85a3a863-8b50-11ee-a3d3-401c83da435e',\n",
       " '85a3a864-8b50-11ee-8671-401c83da435e',\n",
       " '85a3a865-8b50-11ee-96a4-401c83da435e',\n",
       " '85a3a866-8b50-11ee-9bc9-401c83da435e',\n",
       " '85a3a867-8b50-11ee-943c-401c83da435e',\n",
       " '85a3a868-8b50-11ee-a718-401c83da435e',\n",
       " '85a3a869-8b50-11ee-a8fc-401c83da435e',\n",
       " '85a3a86a-8b50-11ee-ba6e-401c83da435e',\n",
       " '85a3a86b-8b50-11ee-8d16-401c83da435e',\n",
       " '85a3a86c-8b50-11ee-bddc-401c83da435e',\n",
       " '85a3a86d-8b50-11ee-a35c-401c83da435e',\n",
       " '85a3a86e-8b50-11ee-9e87-401c83da435e',\n",
       " '85a3a86f-8b50-11ee-9c55-401c83da435e',\n",
       " '85a3a870-8b50-11ee-b761-401c83da435e',\n",
       " '85a3a871-8b50-11ee-a15d-401c83da435e',\n",
       " '85a3a872-8b50-11ee-90ab-401c83da435e',\n",
       " '85a3a873-8b50-11ee-83fc-401c83da435e',\n",
       " '85a3a874-8b50-11ee-b385-401c83da435e',\n",
       " '85a3a875-8b50-11ee-bac8-401c83da435e',\n",
       " '85a3a876-8b50-11ee-a31d-401c83da435e',\n",
       " '85a3a877-8b50-11ee-ba9f-401c83da435e',\n",
       " '85a3a878-8b50-11ee-80e6-401c83da435e',\n",
       " '85a3a879-8b50-11ee-85f8-401c83da435e',\n",
       " '85a3a87a-8b50-11ee-ae0f-401c83da435e',\n",
       " '85a3a87b-8b50-11ee-b5c4-401c83da435e',\n",
       " '85a3a87c-8b50-11ee-9986-401c83da435e',\n",
       " '85a3a87d-8b50-11ee-ad74-401c83da435e',\n",
       " '85a3a87e-8b50-11ee-b4ca-401c83da435e',\n",
       " '85a3a87f-8b50-11ee-b23e-401c83da435e',\n",
       " '85a3a880-8b50-11ee-aac3-401c83da435e',\n",
       " '85a3a881-8b50-11ee-a804-401c83da435e',\n",
       " '85a3a882-8b50-11ee-8012-401c83da435e',\n",
       " '85a3a883-8b50-11ee-a729-401c83da435e',\n",
       " '85a3a884-8b50-11ee-9f96-401c83da435e',\n",
       " '85a3a885-8b50-11ee-b4fe-401c83da435e',\n",
       " '85a3a886-8b50-11ee-b786-401c83da435e',\n",
       " '85a3a887-8b50-11ee-9552-401c83da435e',\n",
       " '85a3a888-8b50-11ee-8f9c-401c83da435e',\n",
       " '85a3a889-8b50-11ee-aebc-401c83da435e',\n",
       " '85a3a88a-8b50-11ee-94d0-401c83da435e',\n",
       " '85a3a88b-8b50-11ee-ad08-401c83da435e',\n",
       " '85a3a88c-8b50-11ee-b7b5-401c83da435e',\n",
       " '85a3a88d-8b50-11ee-8407-401c83da435e',\n",
       " '85a3a88e-8b50-11ee-8c3a-401c83da435e',\n",
       " '85a3a88f-8b50-11ee-bab0-401c83da435e',\n",
       " '85a3a890-8b50-11ee-a452-401c83da435e',\n",
       " '85a3a891-8b50-11ee-8e30-401c83da435e',\n",
       " '85a3a892-8b50-11ee-8f45-401c83da435e',\n",
       " '85a3a893-8b50-11ee-b36a-401c83da435e',\n",
       " '85a3a894-8b50-11ee-bdec-401c83da435e',\n",
       " '85a3a895-8b50-11ee-891e-401c83da435e',\n",
       " '85a3a896-8b50-11ee-b367-401c83da435e',\n",
       " '85a3a897-8b50-11ee-a2c0-401c83da435e',\n",
       " '85a3a898-8b50-11ee-9cab-401c83da435e',\n",
       " '85a3a899-8b50-11ee-85d6-401c83da435e',\n",
       " '85a3a89a-8b50-11ee-8526-401c83da435e',\n",
       " '85a3a89b-8b50-11ee-bf90-401c83da435e',\n",
       " '85a3a89c-8b50-11ee-947b-401c83da435e',\n",
       " '85a3a89d-8b50-11ee-b801-401c83da435e',\n",
       " '85a3a89e-8b50-11ee-a082-401c83da435e',\n",
       " '85a3a89f-8b50-11ee-bfde-401c83da435e',\n",
       " '85a3a8a0-8b50-11ee-bbb3-401c83da435e',\n",
       " '85a3a8a1-8b50-11ee-9f50-401c83da435e',\n",
       " '85a3a8a2-8b50-11ee-86fa-401c83da435e',\n",
       " '85a3a8a3-8b50-11ee-934a-401c83da435e',\n",
       " '85a3a8a4-8b50-11ee-a347-401c83da435e',\n",
       " '85a3a8a5-8b50-11ee-92a1-401c83da435e',\n",
       " '85a3cf57-8b50-11ee-ad38-401c83da435e']"
      ]
     },
     "execution_count": 15,
     "metadata": {},
     "output_type": "execute_result"
    }
   ],
   "source": [
    "my_activeloop_dataset_name = \"sql_interview\"\n",
    "dataset_path = f\"hub://{my_activeloop_org_id}/{my_activeloop_dataset_name}\"\n",
    "db = DeepLake(dataset_path=dataset_path, embedding=embeddings)\n",
    "db.add_documents(docs)"
   ]
  },
  {
   "cell_type": "markdown",
   "id": "ead0a485",
   "metadata": {},
   "source": [
    "Since the dataset is stored on Activeloop, you can load it later without recomputing embeddings. This is a significant benefit cause it would save you time and computational resources. LangChain has a wrapper around Deep Lake, allowing you to use it as a Vector Store."
   ]
  },
  {
   "cell_type": "code",
   "execution_count": 9,
   "id": "fc6f0007",
   "metadata": {},
   "outputs": [],
   "source": [
    "#db = DeepLake(dataset_path=\"hub://jfrancis/sql_interview\", read_only=True, embedding=embeddings)"
   ]
  },
  {
   "cell_type": "markdown",
   "id": "4f9c4a25",
   "metadata": {},
   "source": [
    "### Creating the retrieval tool\n",
    "\n",
    "Now, we’ll construct the custom tool function that will retrieve the relevant documents from the Deep Lake database:"
   ]
  },
  {
   "cell_type": "code",
   "execution_count": 16,
   "id": "f87c6f67",
   "metadata": {},
   "outputs": [],
   "source": [
    "# Get the retriever object from the deep lake db object\n",
    "retriever = db.as_retriever()"
   ]
  },
  {
   "cell_type": "code",
   "execution_count": 17,
   "id": "6cd5f616",
   "metadata": {},
   "outputs": [],
   "source": [
    "from langchain.agents import tool\n",
    "\n",
    "# We define some variables that will be used inside our custom tool\n",
    "# We're creating a custom tool that looks for relevant documents in our deep lake db\n",
    "CUSTOM_TOOL_N_DOCS = 3 # number of retrieved docs from deep lake to consider\n",
    "CUSTOM_TOOL_DOCS_SEPARATOR =\"\\n\\n\" # how to join together the retrieved docs to form a single string\n",
    "\n",
    "# We use the tool decorator to wrap a function that will become our custom tool\n",
    "# Note that the tool has a single string as input and returns a single string as output\n",
    "# The name of the function will be the name of our custom tool\n",
    "# The docstring of the function will be the description of our custom tool\n",
    "# The description is used by the agent to decide whether to use the tool for a specific query\n",
    "@tool\n",
    "def retrieve_n_docs_tool(query: str) -> str:\n",
    "    \"\"\" Searches for relevant documents that may contain the answer to the query.\"\"\"\n",
    "    docs = retriever.get_relevant_documents(query)[:CUSTOM_TOOL_N_DOCS]\n",
    "    texts = [doc.page_content for doc in docs]\n",
    "    texts_merged = CUSTOM_TOOL_DOCS_SEPARATOR.join(texts)\n",
    "    return texts_merged"
   ]
  },
  {
   "cell_type": "markdown",
   "id": "4a9c6b36",
   "metadata": {},
   "source": [
    "Our function, retrieve_n_docs_tool, is designed with a specific purpose in mind - to search for and retrieve relevant documents based on a given query. It accepts a single string input, which is the user's question or query, and it's designed to return a single string output.\n",
    "\n",
    "To find the relevant documents, our function makes use of the retriever object's get_relevant_documents method. Given the query, this method searches for and returns a list of the most relevant documents. But we only need some of the documents it finds. We only want the top few. That's where the [: CUSTOM_TOOL_N_DOCS] slice comes in. It allows us to select the top CUSTOM_TOOL_N_DOCS number of documents from the list, where CUSTOM_TOOL_N_DOCS is a predefined constant that tells us how many documents to consider. In this case, that’s 3 documents, as we specified. \n",
    "\n",
    "Now that we have our top documents, we want to extract the text from each of them. We achieve this using a list comprehension that iterates over each document in our list, docs, and extracts the page_content or text from each document. The result is a list of the top 3 relevant document texts. Next, we want to join these individual texts from a list into a single string using .join(texts) method. Finally, our function returns texts_merged, a single string that comprises the joined texts from the relevant documents. The @tool decorator wraps the function, turning it into a custom tool. \n",
    "\n",
    "### Using the tool with an agent\n",
    "\n",
    " We can now initialize the agent that uses our custom tool."
   ]
  },
  {
   "cell_type": "code",
   "execution_count": 18,
   "id": "d9262432",
   "metadata": {},
   "outputs": [],
   "source": [
    "# Load a LLM to create an agent using our custom tool\n",
    "from langchain.llms import OpenAI\n",
    "# Classes for initializing the agent that will use the custom tool\n",
    "from langchain.agents import initialize_agent, AgentType\n",
    "\n",
    "# Let's create an agent that uses our custom tool\n",
    "# We set verbose=True to check if the agent is using the tool for generating the final answer\n",
    "llm = OpenAI(model=\"text-davinci-003\", temperature=0)\n",
    "agent = initialize_agent([retrieve_n_docs_tool], llm, agent=AgentType.ZERO_SHOT_REACT_DESCRIPTION, verbose=True)"
   ]
  },
  {
   "cell_type": "markdown",
   "id": "b133353a",
   "metadata": {},
   "source": [
    "The initialize_agent function takes in three parameters: a list of the custom tools, the language learning model, and the type of agent. We're using the OpenAI LLM and specifying the agent type as ZERO_SHOT_REACT_DESCRIPTION. With verbose=True we can check if the agent is using the tool when generating the final answer.\n",
    "\n",
    "Once the agent has been set up, it can be queried:"
   ]
  },
  {
   "cell_type": "code",
   "execution_count": 19,
   "id": "d686c067",
   "metadata": {},
   "outputs": [
    {
     "name": "stdout",
     "output_type": "stream",
     "text": [
      "\n",
      "\n",
      "\u001b[1m> Entering new AgentExecutor chain...\u001b[0m\n",
      "\u001b[32;1m\u001b[1;3m A primary key is a unique identifier for a record in a database table.\n",
      "Action: retrieve_n_docs_tool\n",
      "Action Input: \"What is a primary key?\"\u001b[0m\n",
      "Observation: \u001b[36;1m\u001b[1;3mFrequently asked SQL Interview Questions A primary key is a column whose values uniquely identify every row in a table. Primary key values can never be reused. If a row is deleted from the table, its primary key may not be assigned to any new rows in the future. To define a field as primary key, following conditions had to be met :\n",
      "\n",
      "1. No two rows can have the same primary key value. 2. Every row must have a primary key value 3. Primary key field cannot be null 4. Values in primary key columns can never be modified or updated\n",
      "\n",
      "10 | P a g e\n",
      "\n",
      "SQL INTERVIEW QUESTIONS AND ANSWERS\n",
      "\n",
      "36.What is a Composite Key ?\n",
      "\n",
      "A Composite primary key is a type of candidate key, which represents a set of columns whose values uniquely identify every row in a table.\n",
      "\n",
      "For example - if \"Employee_ID\" and \"Employee Name\" in a table is combined to uniquely identifies a row its called a Composite Key.\n",
      "\n",
      "A PRIMARY KEY constraint is a unique identifier for a row within a database table. Every table should have a primary key constraint to uniquely identify each row and only one primary key constraint can be created for each table. The primary key constraints are used to enforce entity integrity.\n",
      "\n",
      "152. What is UNIQUE KEY constraint?\n",
      "\n",
      "A UNIQUE constraint enforces the uniqueness of the values in a set of columns, so no duplicate values are entered. The unique key constraints are used to enforce entity integrity as the primary key constraints.\n",
      "\n",
      "153. What is FOREIGN KEY?\n",
      "\n",
      "A FOREIGN KEY constraint prevents any actions that would destroy links between tables with the corresponding data values. A foreign key in one table points to a primary key in another table. Foreign keys prevent actions that would leave rows with foreign key values when there are no primary keys with that value. The foreign key constraints are used to enforce referential integrity.\n",
      "\n",
      "154. What is CHECK Constraint?\n",
      "\n",
      "7.What are super, primary, candidate and foreign keys? Ans: A super key is a set of attributes of a relation schema upon which all attributes of the schema are functionally dependent. No two rows can have the same value of super key attributes. A Candidate key is minimal super key, i.e., no proper subset of Candidate key attributes can be a super key. A Primary Key is one of the candidate keys. One of the candidate keys is selected as most important and becomes the primary key. There cannot be more that one primary keys in a table. Foreign key is a field (or collection of fields) in one table that uniquely identifies a row of another table.\n",
      "\n",
      "8.What is the difference between primary key and unique constraints? Ans: Primary key cannot have NULL value, the unique constraints can have NULL values. There is only one primary key in a table, but there can be multiple unique constrains.\n",
      "\n",
      "4 | P a g e\n",
      "\n",
      "SQL INTERVIEW QUESTIONS AND ANSWERS\u001b[0m\n",
      "Thought:\u001b[32;1m\u001b[1;3m I now know the final answer\n",
      "Final Answer: A primary key is a column or set of columns whose values uniquely identify every row in a table. Primary key values can never be reused, and they cannot be null. A composite key is a type of candidate key which represents a set of columns whose values uniquely identify every row in a table. A foreign key is a field or collection of fields in one table that uniquely identifies a row of another table.\u001b[0m\n",
      "\n",
      "\u001b[1m> Finished chain.\u001b[0m\n",
      "A primary key is a column or set of columns whose values uniquely identify every row in a table. Primary key values can never be reused, and they cannot be null. A composite key is a type of candidate key which represents a set of columns whose values uniquely identify every row in a table. A foreign key is a field or collection of fields in one table that uniquely identifies a row of another table.\n"
     ]
    }
   ],
   "source": [
    "response = agent.run(\"What is a primary key?\")"
   ]
  },
  {
   "cell_type": "markdown",
   "id": "dc300db3",
   "metadata": {},
   "source": [
    "By reading the agent printed output, we see that the agent decided to use the retrieve_n_docs_tool tool to retrieve relevant documents to the SQL Interviews query. The final answer is then generated using the information contained in the retrieved documents."
   ]
  },
  {
   "cell_type": "code",
   "execution_count": 20,
   "id": "8a8a077c",
   "metadata": {},
   "outputs": [
    {
     "name": "stdout",
     "output_type": "stream",
     "text": [
      "A primary key is a column or set of columns whose values uniquely identify every row in a table. Primary key values can never be reused, and they cannot be null. A composite key is a type of candidate key which represents a set of columns whose values uniquely identify every row in a table. A foreign key is a field or collection of fields in one table that uniquely identifies a row of another table.\n"
     ]
    }
   ],
   "source": [
    "print(response)"
   ]
  },
  {
   "cell_type": "markdown",
   "id": "84cd0a62",
   "metadata": {},
   "source": [
    "#### Just trying out the Opensource alternative for openai text generaiton with huggingface"
   ]
  },
  {
   "cell_type": "code",
   "execution_count": 27,
   "id": "f351b09f",
   "metadata": {},
   "outputs": [],
   "source": [
    "from langchain import HuggingFaceHub\n",
    "flan_t5 = HuggingFaceHub(\n",
    "    repo_id=\"google/flan-t5-xxl\",\n",
    "    model_kwargs={\"temperature\":0.8, \"max_length\":512}\n",
    ")"
   ]
  },
  {
   "cell_type": "code",
   "execution_count": 28,
   "id": "39c381ce",
   "metadata": {},
   "outputs": [],
   "source": [
    "qa = RetrievalQA.from_chain_type(llm=flan_t5, chain_type='stuff', retriever=db.as_retriever())"
   ]
  },
  {
   "cell_type": "code",
   "execution_count": 29,
   "id": "c1a81afb",
   "metadata": {},
   "outputs": [
    {
     "data": {
      "text/plain": [
       "'A primary key is a column whose values uniquely identify every row in a table.'"
      ]
     },
     "execution_count": 29,
     "metadata": {},
     "output_type": "execute_result"
    }
   ],
   "source": [
    "qa.run(\"What is a primary key?\")"
   ]
  }
 ],
 "metadata": {
  "kernelspec": {
   "display_name": "env_llm",
   "language": "python",
   "name": "env_llm"
  },
  "language_info": {
   "codemirror_mode": {
    "name": "ipython",
    "version": 3
   },
   "file_extension": ".py",
   "mimetype": "text/x-python",
   "name": "python",
   "nbconvert_exporter": "python",
   "pygments_lexer": "ipython3",
   "version": "3.11.5"
  }
 },
 "nbformat": 4,
 "nbformat_minor": 5
}

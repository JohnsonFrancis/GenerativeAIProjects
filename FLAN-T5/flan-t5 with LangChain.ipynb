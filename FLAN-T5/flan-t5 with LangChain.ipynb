{
 "cells": [
  {
   "cell_type": "markdown",
   "id": "4db4fc6b",
   "metadata": {},
   "source": [
    "## FLAN-T5"
   ]
  },
  {
   "cell_type": "markdown",
   "id": "e13f5a24",
   "metadata": {},
   "source": [
    "#### Flan-T5 is an open-source language model developed by Google researchers. It is a variant of the T5 (Text-To-Text Transfer Transformer) model that has been fine-tuned on a mixture of unsupervised and supervised tasks 12. The model is capable of generating coherent and contextually relevant text based on a given prompt."
   ]
  },
  {
   "cell_type": "markdown",
   "id": "95ad5f7c",
   "metadata": {},
   "source": [
    "###### More details on this experiment is available at https://www.pinecone.io/learn/series/langchain/langchain-intro/   & https://github.com/pinecone-io/examples/blob/master/learn/generation/langchain/handbook/00-langchain-intro.ipynb"
   ]
  },
  {
   "cell_type": "code",
   "execution_count": 1,
   "id": "0fd5e16f",
   "metadata": {},
   "outputs": [],
   "source": [
    "from langchain import PromptTemplate\n",
    "import warnings\n",
    "warnings.filterwarnings(\"ignore\")\n",
    "\n",
    "template = \"\"\"Question: {question}\n",
    "\n",
    "Answer: \"\"\"\n",
    "prompt = PromptTemplate(\n",
    "        template=template,\n",
    "    input_variables=['question']\n",
    ")"
   ]
  },
  {
   "cell_type": "markdown",
   "id": "00e14375",
   "metadata": {},
   "source": [
    "##### For Hugging Face models we need a Hugging Face Hub API token. We can find this by first getting an account at HuggingFace.co and clicking on our profile in the top-right corner > click Settings > click Access Tokens > click New Token > set Role to write > Generate > copy and paste the token below:"
   ]
  },
  {
   "cell_type": "code",
   "execution_count": 2,
   "id": "5e01e625",
   "metadata": {},
   "outputs": [],
   "source": [
    "import os\n",
    "os.environ['HUGGINGFACEHUB_API_TOKEN'] = '<token>' "
   ]
  },
  {
   "cell_type": "markdown",
   "id": "3244b364",
   "metadata": {},
   "source": [
    "##### The default Hugging Face Hub inference APIs do not use specialized hardware and, therefore, can be slow. They are also not suitable for running larger models like bigscience/bloom-560m or google/flan-t5-xxl (note xxl vs. xl)."
   ]
  },
  {
   "cell_type": "code",
   "execution_count": 3,
   "id": "fb4bac55",
   "metadata": {},
   "outputs": [],
   "source": [
    "from langchain import HuggingFaceHub, LLMChain\n",
    "\n",
    "# initialize HF LLM\n",
    "flan_t5 = HuggingFaceHub(\n",
    "    repo_id=\"google/flan-t5-xxl\",\n",
    "    model_kwargs={\"temperature\":0.8, \"max_length\":512}\n",
    ")\n",
    "\n",
    "llm_chain = LLMChain(\n",
    "    prompt=prompt,\n",
    "    llm=flan_t5\n",
    ")"
   ]
  },
  {
   "cell_type": "code",
   "execution_count": 4,
   "id": "082574fc",
   "metadata": {},
   "outputs": [
    {
     "name": "stdout",
     "output_type": "stream",
     "text": [
      "new orleans saints\n"
     ]
    }
   ],
   "source": [
    "# user question\n",
    "question = \"Which NFL team won the Super Bowl in the 2010 season?\"\n",
    "print(llm_chain.run(question))"
   ]
  },
  {
   "cell_type": "code",
   "execution_count": 5,
   "id": "eafe7ff3",
   "metadata": {},
   "outputs": [
    {
     "name": "stdout",
     "output_type": "stream",
     "text": [
      "sarah\n"
     ]
    }
   ],
   "source": [
    "# user question\n",
    "question = \"What is your name?\"\n",
    "print(llm_chain.run(question))"
   ]
  },
  {
   "cell_type": "code",
   "execution_count": 6,
   "id": "ce813746",
   "metadata": {},
   "outputs": [
    {
     "name": "stdout",
     "output_type": "stream",
     "text": [
      "England\n"
     ]
    }
   ],
   "source": [
    "# user question\n",
    "question = \"Whos won last cricket world cup?\"\n",
    "print(llm_chain.run(question))"
   ]
  },
  {
   "cell_type": "code",
   "execution_count": 7,
   "id": "c11aa59e",
   "metadata": {},
   "outputs": [
    {
     "data": {
      "text/plain": [
       "LLMResult(generations=[[Generation(text='new orleans saints')], [Generation(text='192')], [Generation(text='wm thompson')], [Generation(text='four')]], llm_output=None, run=[RunInfo(run_id=UUID('55db169e-bafd-439e-ac99-6831f9fd33fb')), RunInfo(run_id=UUID('c75a98c0-ded7-47b2-b9a6-73d101e84222')), RunInfo(run_id=UUID('b9530ad7-f92c-4beb-8ee0-7dca0e388eed')), RunInfo(run_id=UUID('e53dd495-17e6-4689-948a-fe117a881aa3'))])"
      ]
     },
     "execution_count": 7,
     "metadata": {},
     "output_type": "execute_result"
    }
   ],
   "source": [
    "qs = [\n",
    "    {'question': \"Which NFL team won the Super Bowl in the 2010 season?\"},\n",
    "    {'question': \"If I am 6 ft 4 inches, how tall am I in centimeters?\"},\n",
    "    {'question': \"Who was the 12th person on the moon?\"},\n",
    "    {'question': \"How many eyes does a blade of grass have?\"}\n",
    "]\n",
    "res = llm_chain.generate(qs)\n",
    "res"
   ]
  }
 ],
 "metadata": {
  "kernelspec": {
   "display_name": "env_llm",
   "language": "python",
   "name": "env_llm"
  },
  "language_info": {
   "codemirror_mode": {
    "name": "ipython",
    "version": 3
   },
   "file_extension": ".py",
   "mimetype": "text/x-python",
   "name": "python",
   "nbconvert_exporter": "python",
   "pygments_lexer": "ipython3",
   "version": "3.11.5"
  }
 },
 "nbformat": 4,
 "nbformat_minor": 5
}
